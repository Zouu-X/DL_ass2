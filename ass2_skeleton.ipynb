{
 "cells": [
  {
   "cell_type": "markdown",
   "metadata": {
    "id": "7wv9q_pcGshE"
   },
   "source": [
    "# Assignment 2 2AMM10 2023-2024\n",
    "\n",
    "## Group: [Fill in your group name]\n",
    "### Member 1: [Fill in your name]\n",
    "### Member 2: [Fill in your name]\n",
    "### Member 3: [Fill in your name]"
   ]
  },
  {
   "cell_type": "markdown",
   "metadata": {
    "id": "cQzvuDWw_Eyw"
   },
   "source": [
    "We need to install some specific libraries. The cell below installs torch_geometric for torch 2.6.0+cu124. In case the current version of torch is different, check [here](https://pytorch-geometric.readthedocs.io/en/latest/install/installation.html) to see which versions (of both libraries) you should install. You might also need to install an old version of torch from [here](https://pytorch.org/get-started/previous-versions/)\n",
    "\n",
    "**Note:** Do not install pyg_lib from the optional dependencies"
   ]
  },
  {
   "cell_type": "code",
   "execution_count": 1,
   "metadata": {
    "colab": {
     "base_uri": "https://localhost:8080/"
    },
    "executionInfo": {
     "elapsed": 5882,
     "status": "ok",
     "timestamp": 1749539485307,
     "user": {
      "displayName": "Zoe Vycery",
      "userId": "09224689904146924932"
     },
     "user_tz": -120
    },
    "id": "ibC2lMHfD67H",
    "outputId": "e6a0852d-aa4b-4a52-aaaa-5d0de913ff37"
   },
   "outputs": [
    {
     "name": "stdout",
     "output_type": "stream",
     "text": [
      "Name: torch\n",
      "Version: 2.6.0+cu124\n",
      "Summary: Tensors and Dynamic neural networks in Python with strong GPU acceleration\n",
      "Home-page: https://pytorch.org/\n",
      "Author: PyTorch Team\n",
      "Author-email: packages@pytorch.org\n",
      "License: BSD-3-Clause\n",
      "Location: /usr/local/lib/python3.11/dist-packages\n",
      "Requires: filelock, fsspec, jinja2, networkx, nvidia-cublas-cu12, nvidia-cuda-cupti-cu12, nvidia-cuda-nvrtc-cu12, nvidia-cuda-runtime-cu12, nvidia-cudnn-cu12, nvidia-cufft-cu12, nvidia-curand-cu12, nvidia-cusolver-cu12, nvidia-cusparse-cu12, nvidia-cusparselt-cu12, nvidia-nccl-cu12, nvidia-nvjitlink-cu12, nvidia-nvtx-cu12, sympy, triton, typing-extensions\n",
      "Required-by: accelerate, fastai, peft, sentence-transformers, timm, torchaudio, torchdata, torchvision\n"
     ]
    }
   ],
   "source": [
    "!pip show torch"
   ]
  },
  {
   "cell_type": "code",
   "execution_count": 2,
   "metadata": {
    "colab": {
     "base_uri": "https://localhost:8080/"
    },
    "executionInfo": {
     "elapsed": 21991,
     "status": "ok",
     "timestamp": 1749539516957,
     "user": {
      "displayName": "Zoe Vycery",
      "userId": "09224689904146924932"
     },
     "user_tz": -120
    },
    "id": "8qrPQFNe_AJu",
    "outputId": "e65b0dc0-ddf1-4148-eeff-e9ecdb2ea354"
   },
   "outputs": [
    {
     "name": "stdout",
     "output_type": "stream",
     "text": [
      "Collecting rdkit\n",
      "  Downloading rdkit-2025.3.2-cp311-cp311-manylinux_2_28_x86_64.whl.metadata (4.0 kB)\n",
      "Requirement already satisfied: numpy in /usr/local/lib/python3.11/dist-packages (from rdkit) (2.0.2)\n",
      "Requirement already satisfied: Pillow in /usr/local/lib/python3.11/dist-packages (from rdkit) (11.2.1)\n",
      "Downloading rdkit-2025.3.2-cp311-cp311-manylinux_2_28_x86_64.whl (35.2 MB)\n",
      "\u001b[2K   \u001b[90m━━━━━━━━━━━━━━━━━━━━━━━━━━━━━━━━━━━━━━━━\u001b[0m \u001b[32m35.2/35.2 MB\u001b[0m \u001b[31m33.8 MB/s\u001b[0m eta \u001b[36m0:00:00\u001b[0m\n",
      "\u001b[?25hInstalling collected packages: rdkit\n",
      "Successfully installed rdkit-2025.3.2\n",
      "Collecting torch_geometric\n",
      "  Downloading torch_geometric-2.6.1-py3-none-any.whl.metadata (63 kB)\n",
      "\u001b[2K     \u001b[90m━━━━━━━━━━━━━━━━━━━━━━━━━━━━━━━━━━━━━━━━\u001b[0m \u001b[32m63.1/63.1 kB\u001b[0m \u001b[31m1.8 MB/s\u001b[0m eta \u001b[36m0:00:00\u001b[0m\n",
      "\u001b[?25hRequirement already satisfied: aiohttp in /usr/local/lib/python3.11/dist-packages (from torch_geometric) (3.11.15)\n",
      "Requirement already satisfied: fsspec in /usr/local/lib/python3.11/dist-packages (from torch_geometric) (2025.3.2)\n",
      "Requirement already satisfied: jinja2 in /usr/local/lib/python3.11/dist-packages (from torch_geometric) (3.1.6)\n",
      "Requirement already satisfied: numpy in /usr/local/lib/python3.11/dist-packages (from torch_geometric) (2.0.2)\n",
      "Requirement already satisfied: psutil>=5.8.0 in /usr/local/lib/python3.11/dist-packages (from torch_geometric) (5.9.5)\n",
      "Requirement already satisfied: pyparsing in /usr/local/lib/python3.11/dist-packages (from torch_geometric) (3.2.3)\n",
      "Requirement already satisfied: requests in /usr/local/lib/python3.11/dist-packages (from torch_geometric) (2.32.3)\n",
      "Requirement already satisfied: tqdm in /usr/local/lib/python3.11/dist-packages (from torch_geometric) (4.67.1)\n",
      "Requirement already satisfied: aiohappyeyeballs>=2.3.0 in /usr/local/lib/python3.11/dist-packages (from aiohttp->torch_geometric) (2.6.1)\n",
      "Requirement already satisfied: aiosignal>=1.1.2 in /usr/local/lib/python3.11/dist-packages (from aiohttp->torch_geometric) (1.3.2)\n",
      "Requirement already satisfied: attrs>=17.3.0 in /usr/local/lib/python3.11/dist-packages (from aiohttp->torch_geometric) (25.3.0)\n",
      "Requirement already satisfied: frozenlist>=1.1.1 in /usr/local/lib/python3.11/dist-packages (from aiohttp->torch_geometric) (1.6.0)\n",
      "Requirement already satisfied: multidict<7.0,>=4.5 in /usr/local/lib/python3.11/dist-packages (from aiohttp->torch_geometric) (6.4.4)\n",
      "Requirement already satisfied: propcache>=0.2.0 in /usr/local/lib/python3.11/dist-packages (from aiohttp->torch_geometric) (0.3.1)\n",
      "Requirement already satisfied: yarl<2.0,>=1.17.0 in /usr/local/lib/python3.11/dist-packages (from aiohttp->torch_geometric) (1.20.0)\n",
      "Requirement already satisfied: MarkupSafe>=2.0 in /usr/local/lib/python3.11/dist-packages (from jinja2->torch_geometric) (3.0.2)\n",
      "Requirement already satisfied: charset-normalizer<4,>=2 in /usr/local/lib/python3.11/dist-packages (from requests->torch_geometric) (3.4.2)\n",
      "Requirement already satisfied: idna<4,>=2.5 in /usr/local/lib/python3.11/dist-packages (from requests->torch_geometric) (3.10)\n",
      "Requirement already satisfied: urllib3<3,>=1.21.1 in /usr/local/lib/python3.11/dist-packages (from requests->torch_geometric) (2.4.0)\n",
      "Requirement already satisfied: certifi>=2017.4.17 in /usr/local/lib/python3.11/dist-packages (from requests->torch_geometric) (2025.4.26)\n",
      "Downloading torch_geometric-2.6.1-py3-none-any.whl (1.1 MB)\n",
      "\u001b[2K   \u001b[90m━━━━━━━━━━━━━━━━━━━━━━━━━━━━━━━━━━━━━━━━\u001b[0m \u001b[32m1.1/1.1 MB\u001b[0m \u001b[31m19.4 MB/s\u001b[0m eta \u001b[36m0:00:00\u001b[0m\n",
      "\u001b[?25hInstalling collected packages: torch_geometric\n",
      "Successfully installed torch_geometric-2.6.1\n",
      "Looking in links: https://data.pyg.org/whl/torch-2.6.0+cu124.html\n",
      "Collecting torch_scatter\n",
      "  Downloading https://data.pyg.org/whl/torch-2.6.0%2Bcu124/torch_scatter-2.1.2%2Bpt26cu124-cp311-cp311-linux_x86_64.whl (10.8 MB)\n",
      "\u001b[2K     \u001b[90m━━━━━━━━━━━━━━━━━━━━━━━━━━━━━━━━━━━━━━━━\u001b[0m \u001b[32m10.8/10.8 MB\u001b[0m \u001b[31m86.8 MB/s\u001b[0m eta \u001b[36m0:00:00\u001b[0m\n",
      "\u001b[?25hCollecting torch_sparse\n",
      "  Downloading https://data.pyg.org/whl/torch-2.6.0%2Bcu124/torch_sparse-0.6.18%2Bpt26cu124-cp311-cp311-linux_x86_64.whl (5.0 MB)\n",
      "\u001b[2K     \u001b[90m━━━━━━━━━━━━━━━━━━━━━━━━━━━━━━━━━━━━━━━━\u001b[0m \u001b[32m5.0/5.0 MB\u001b[0m \u001b[31m97.7 MB/s\u001b[0m eta \u001b[36m0:00:00\u001b[0m\n",
      "\u001b[?25hCollecting torch_cluster\n",
      "  Downloading https://data.pyg.org/whl/torch-2.6.0%2Bcu124/torch_cluster-1.6.3%2Bpt26cu124-cp311-cp311-linux_x86_64.whl (3.4 MB)\n",
      "\u001b[2K     \u001b[90m━━━━━━━━━━━━━━━━━━━━━━━━━━━━━━━━━━━━━━━━\u001b[0m \u001b[32m3.4/3.4 MB\u001b[0m \u001b[31m90.8 MB/s\u001b[0m eta \u001b[36m0:00:00\u001b[0m\n",
      "\u001b[?25hCollecting torch_spline_conv\n",
      "  Downloading https://data.pyg.org/whl/torch-2.6.0%2Bcu124/torch_spline_conv-1.2.2%2Bpt26cu124-cp311-cp311-linux_x86_64.whl (1.0 MB)\n",
      "\u001b[2K     \u001b[90m━━━━━━━━━━━━━━━━━━━━━━━━━━━━━━━━━━━━━━━━\u001b[0m \u001b[32m1.0/1.0 MB\u001b[0m \u001b[31m11.1 MB/s\u001b[0m eta \u001b[36m0:00:00\u001b[0m\n",
      "\u001b[?25hRequirement already satisfied: scipy in /usr/local/lib/python3.11/dist-packages (from torch_sparse) (1.15.3)\n",
      "Requirement already satisfied: numpy<2.5,>=1.23.5 in /usr/local/lib/python3.11/dist-packages (from scipy->torch_sparse) (2.0.2)\n",
      "Installing collected packages: torch_spline_conv, torch_scatter, torch_sparse, torch_cluster\n",
      "Successfully installed torch_cluster-1.6.3+pt26cu124 torch_scatter-2.1.2+pt26cu124 torch_sparse-0.6.18+pt26cu124 torch_spline_conv-1.2.2+pt26cu124\n"
     ]
    }
   ],
   "source": [
    "!pip install rdkit\n",
    "!pip install torch_geometric\n",
    "!pip install torch_scatter torch_sparse torch_cluster torch_spline_conv -f https://data.pyg.org/whl/torch-2.6.0+cu124.html"
   ]
  },
  {
   "cell_type": "code",
   "execution_count": 2,
   "metadata": {
    "executionInfo": {
     "elapsed": 179,
     "status": "ok",
     "timestamp": 1749541781832,
     "user": {
      "displayName": "Zoe Vycery",
      "userId": "09224689904146924932"
     },
     "user_tz": -120
    },
    "id": "WVL2eo0g_Iuv"
   },
   "outputs": [
    {
     "name": "stderr",
     "output_type": "stream",
     "text": [
      "c:\\Users\\Andy\\DL_ass2\\.venv\\lib\\site-packages\\tqdm\\auto.py:21: TqdmWarning: IProgress not found. Please update jupyter and ipywidgets. See https://ipywidgets.readthedocs.io/en/stable/user_install.html\n",
      "  from .autonotebook import tqdm as notebook_tqdm\n"
     ]
    }
   ],
   "source": [
    "import pickle\n",
    "import torch\n",
    "import torch.nn as nn\n",
    "from torch.utils.data import Dataset, DataLoader\n",
    "import torch.optim as optim\n",
    "import numpy as np\n",
    "from collections import Counter\n",
    "from rdkit import Chem\n",
    "from rdkit.Chem import Draw, AllChem\n",
    "from rdkit import RDLogger\n",
    "RDLogger.DisableLog('rdApp.*')\n",
    "import matplotlib.pyplot as plt\n",
    "import os\n",
    "from sklearn.model_selection import train_test_split\n",
    "from tqdm.auto import tqdm"
   ]
  },
  {
   "cell_type": "code",
   "execution_count": 3,
   "metadata": {
    "colab": {
     "base_uri": "https://localhost:8080/"
    },
    "executionInfo": {
     "elapsed": 15978,
     "status": "ok",
     "timestamp": 1749539546290,
     "user": {
      "displayName": "Zoe Vycery",
      "userId": "09224689904146924932"
     },
     "user_tz": -120
    },
    "id": "JqP_sD45am8r",
    "outputId": "49af247d-fa7c-4dc7-b5f2-242c1e9f8502"
   },
   "outputs": [],
   "source": [
    "## For colab\n",
    "# from google.colab import drive\n",
    "# drive.mount('/content/drive')\n",
    "dataset_dir = \"ass2_data\""
   ]
  },
  {
   "cell_type": "code",
   "execution_count": 4,
   "metadata": {
    "colab": {
     "base_uri": "https://localhost:8080/"
    },
    "executionInfo": {
     "elapsed": 3908,
     "status": "ok",
     "timestamp": 1749539551231,
     "user": {
      "displayName": "Zoe Vycery",
      "userId": "09224689904146924932"
     },
     "user_tz": -120
    },
    "id": "H8rvaK56_iQ7",
    "outputId": "6587aa72-c8e3-4e98-bd87-694a34e2cabb"
   },
   "outputs": [
    {
     "name": "stdout",
     "output_type": "stream",
     "text": [
      "Target tensor shape: torch.Size([129012])\n",
      "Train size: 107110 | Val size: 11902 | Test size: 10000\n",
      "Example target (train): tensor(-0.4042)\n"
     ]
    }
   ],
   "source": [
    "pos_data_path = os.path.join(dataset_dir, \"pos_data.pkl\")\n",
    "type_data_path = os.path.join(dataset_dir, \"type_data.pkl\")\n",
    "smiles_data_path = os.path.join(dataset_dir, \"smiles.pkl\")\n",
    "data_split_path = os.path.join(dataset_dir, \"data_split.npz\")\n",
    "formation_energy_path = os.path.join(dataset_dir, \"formation_energy.npz\")\n",
    "with open(pos_data_path, 'rb') as f:\n",
    "    pos_data = pickle.load(f)\n",
    "\n",
    "with open(type_data_path, 'rb') as f:\n",
    "    type_data = pickle.load(f)\n",
    "\n",
    "with open(smiles_data_path, 'rb') as f:\n",
    "    smiles_data = pickle.load(f)\n",
    "\n",
    "data_split = np.load(data_split_path)\n",
    "\n",
    "train_idxes = data_split['train_idx']\n",
    "test_idxes = data_split['test_idx']\n",
    "\n",
    "train_idxes, val_idxes = train_test_split(\n",
    "    train_idxes, test_size=0.1, random_state=42\n",
    ")\n",
    "formation_energy = np.load(formation_energy_path)\n",
    "\n",
    "fe = formation_energy['y'] # normalized formation energy\n",
    "fe_tensor = torch.tensor(fe, dtype=torch.float32) # Convert to tensor\n",
    "mu = formation_energy['mu']\n",
    "std = formation_energy['sigma']\n",
    "print(\"Target tensor shape:\", fe_tensor.shape)\n",
    "print(f\"Train size: {len(train_idxes)} | Val size: {len(val_idxes)} | Test size: {len(test_idxes)}\")\n",
    "print(\"Example target (train):\", fe_tensor[train_idxes[0]])"
   ]
  },
  {
   "cell_type": "code",
   "execution_count": 5,
   "metadata": {
    "colab": {
     "base_uri": "https://localhost:8080/"
    },
    "executionInfo": {
     "elapsed": 9,
     "status": "ok",
     "timestamp": 1749539554847,
     "user": {
      "displayName": "Zoe Vycery",
      "userId": "09224689904146924932"
     },
     "user_tz": -120
    },
    "id": "DIsGRQcxA_4Q",
    "outputId": "47c74067-2315-4f53-a84e-adf5d6bef092"
   },
   "outputs": [
    {
     "name": "stdout",
     "output_type": "stream",
     "text": [
      "Length of data\n",
      "pos_data: 129012, type_data: 129012, smiles: 129012\n",
      "Idxes\n",
      "train: 107110, test: 10000, sum: 117110\n"
     ]
    }
   ],
   "source": [
    "# shapes of lists\n",
    "print(\"Length of data\")\n",
    "print(f\"pos_data: {len(pos_data)}, type_data: {len(type_data)}, smiles: {len(smiles_data)}\")\n",
    "print(\"Idxes\")\n",
    "print(f\"train: {len(train_idxes)}, test: {len(test_idxes)}, sum: {len(train_idxes) + len(test_idxes)}\")"
   ]
  },
  {
   "cell_type": "code",
   "execution_count": 6,
   "metadata": {
    "executionInfo": {
     "elapsed": 3,
     "status": "ok",
     "timestamp": 1749539557463,
     "user": {
      "displayName": "Zoe Vycery",
      "userId": "09224689904146924932"
     },
     "user_tz": -120
    },
    "id": "bVDJF7I3BFa2"
   },
   "outputs": [],
   "source": [
    "def at_number_to_atom_name(at_number):\n",
    "    if at_number == 6:\n",
    "        return 'C'\n",
    "    elif at_number == 1:\n",
    "        return 'H'\n",
    "    elif at_number == 7:\n",
    "        return 'N'\n",
    "    elif at_number == 8:\n",
    "        return 'O'\n",
    "    elif at_number == 9:\n",
    "        return 'F'\n",
    "    elif at_number == 16:\n",
    "        return 'S'\n",
    "    else:\n",
    "        return 'Unknown'\n",
    "\n",
    "def inspect_structure(idx):\n",
    "    smile = smiles_data[idx]\n",
    "    pos = pos_data[idx]\n",
    "    typ = type_data[idx]\n",
    "\n",
    "    header = f\"{'Atom':^5}│{'Number':^6}│{'x':^10}│{'y':^10}│{'z':^10}\"\n",
    "    line   = \"─────┼──────┼──────────┼──────────┼──────────\"\n",
    "    print(header)\n",
    "    print(line)\n",
    "\n",
    "    for atom_num, (x, y, z) in zip(typ, pos):\n",
    "        atom_sym = at_number_to_atom_name(atom_num)\n",
    "        print(f\"{atom_sym:^5}│{atom_num:^6}│{x:>10.3f}│{y:>10.3f}│{z:>10.3f}\")\n",
    "    print(\"\")\n",
    "    print(\"\")\n",
    "    print(f'SMILE: {smile}')\n",
    "    print(\"\")\n",
    "    print(\"\")\n",
    "    print(f'Formation Energy: {fe[idx]*std + mu:.3f}')\n",
    "    print(f'Formation Energy (normalized): {fe[idx]:.5f}')\n",
    "    mol = Chem.MolFromSmiles(smile)\n",
    "    if mol:\n",
    "        # RDKit prefers 2‑D coordinates for nice depictions\n",
    "        Chem.AllChem.Compute2DCoords(mol)\n",
    "        img = Draw.MolToImage(mol, size=(300, 300))\n",
    "\n",
    "        # Display with matplotlib (works both in notebooks and scripts)\n",
    "        plt.figure(figsize=(3, 3))\n",
    "        plt.axis('off')\n",
    "        plt.imshow(img)\n",
    "        plt.show()"
   ]
  },
  {
   "cell_type": "code",
   "execution_count": 7,
   "metadata": {
    "colab": {
     "base_uri": "https://localhost:8080/",
     "height": 525
    },
    "executionInfo": {
     "elapsed": 102,
     "status": "ok",
     "timestamp": 1749472668118,
     "user": {
      "displayName": "Zoe Vycery",
      "userId": "09224689904146924932"
     },
     "user_tz": -120
    },
    "id": "K1rs7hhCC4oq",
    "outputId": "f1b39703-1377-47b5-c6d6-aca455442d98"
   },
   "outputs": [
    {
     "name": "stdout",
     "output_type": "stream",
     "text": [
      "Atom │Number│    x     │    y     │    z     \n",
      "─────┼──────┼──────────┼──────────┼──────────\n",
      "  C  │  6   │    -0.013│     1.086│     0.008\n",
      "  H  │  1   │     0.002│    -0.006│     0.002\n",
      "  H  │  1   │     1.012│     1.464│     0.000\n",
      "  H  │  1   │    -0.541│     1.447│    -0.877\n",
      "  H  │  1   │    -0.524│     1.438│     0.906\n",
      "\n",
      "\n",
      "SMILE: C\n",
      "\n",
      "\n",
      "Formation Energy: -17.172\n",
      "Formation Energy (normalized): 5.72327\n"
     ]
    },
    {
     "data": {
      "image/png": "[encoded data removed]",
      "text/plain": [
       "<Figure size 300x300 with 1 Axes>"
      ]
     },
     "metadata": {},
     "output_type": "display_data"
    }
   ],
   "source": [
    "# methane\n",
    "# Note how methane has a relatively high formation energy (compared to QM9)\n",
    "# This correlates with lower thermodynamic stability and higher reactivity\n",
    "# For example, methane readily burns in oxygen (CH₄ + 2O₂ → CO₂ + 2H₂O)\n",
    "inspect_structure(0)"
   ]
  },
  {
   "cell_type": "code",
   "execution_count": 8,
   "metadata": {
    "colab": {
     "base_uri": "https://localhost:8080/",
     "height": 800
    },
    "executionInfo": {
     "elapsed": 79,
     "status": "ok",
     "timestamp": 1749539562679,
     "user": {
      "displayName": "Zoe Vycery",
      "userId": "09224689904146924932"
     },
     "user_tz": -120
    },
    "id": "vo8hYLuQCeBR",
    "outputId": "cffed0d9-ac68-4a9d-ba3d-7c5f59c4729e"
   },
   "outputs": [
    {
     "name": "stdout",
     "output_type": "stream",
     "text": [
      "Atom │Number│    x     │    y     │    z     \n",
      "─────┼──────┼──────────┼──────────┼──────────\n",
      "  N  │  7   │    -0.164│    -1.059│    -0.436\n",
      "  C  │  6   │    -0.070│     0.054│    -0.140\n",
      "  C  │  6   │     0.072│     1.463│     0.238\n",
      "  C  │  6   │     1.495│     1.950│     0.133\n",
      "  C  │  6   │     2.672│     1.589│     1.036\n",
      "  C  │  6   │     3.395│     2.805│     0.393\n",
      "  C  │  6   │     3.602│     2.375│    -1.087\n",
      "  C  │  6   │     2.082│     2.439│    -1.203\n",
      "  C  │  6   │     1.974│     3.375│    -0.019\n",
      "  H  │  1   │    -0.583│     2.062│    -0.407\n",
      "  H  │  1   │    -0.305│     1.583│     1.262\n",
      "  H  │  1   │     2.430│     1.771│     2.088\n",
      "  H  │  1   │     3.141│     0.604│     0.929\n",
      "  H  │  1   │     4.168│     3.343│     0.936\n",
      "  H  │  1   │     4.075│     3.166│    -1.676\n",
      "  H  │  1   │     4.111│     1.422│    -1.270\n",
      "  H  │  1   │     1.475│     2.434│    -2.100\n",
      "  H  │  1   │     1.476│     4.324│     0.115\n",
      "\n",
      "\n",
      "SMILE: N#CC[C@@]12C[C@H]3C[C@@H]1[C@H]32\n",
      "\n",
      "\n",
      "Formation Energy: -79.409\n",
      "Formation Energy (normalized): -0.31275\n"
     ]
    },
    {
     "data": {
      "image/png": "[encoded data removed]",
      "text/plain": [
       "<Figure size 300x300 with 1 Axes>"
      ]
     },
     "metadata": {},
     "output_type": "display_data"
    }
   ],
   "source": [
    "# random structure\n",
    "inspect_structure(np.random.choice(range(len(smiles_data))))"
   ]
  },
  {
   "cell_type": "markdown",
   "metadata": {
    "id": "76MeHNQ_Gd9t"
   },
   "source": [
    "## Task 1"
   ]
  },
  {
   "cell_type": "code",
   "execution_count": 14,
   "metadata": {
    "colab": {
     "base_uri": "https://localhost:8080/"
    },
    "executionInfo": {
     "elapsed": 3347,
     "status": "ok",
     "timestamp": 1749539568312,
     "user": {
      "displayName": "Zoe Vycery",
      "userId": "09224689904146924932"
     },
     "user_tz": -120
    },
    "id": "Lv736iffCez4",
    "outputId": "26edc894-9875-4085-e922-6c93dc764586"
   },
   "outputs": [
    {
     "name": "stdout",
     "output_type": "stream",
     "text": [
      "Vocab size: 26\n",
      "Max SMILES length: 62\n",
      "Example (index 0): tensor([15,  0,  0,  0,  0,  0,  0,  0,  0,  0,  0,  0,  0,  0,  0,  0,  0,  0,\n",
      "         0,  0,  0,  0,  0,  0,  0,  0,  0,  0,  0,  0,  0,  0,  0,  0,  0,  0,\n",
      "         0,  0,  0,  0,  0,  0,  0,  0,  0,  0,  0,  0,  0,  0,  0,  0,  0,  0,\n",
      "         0,  0,  0,  0,  0,  0,  0,  0])\n"
     ]
    }
   ],
   "source": [
    "# Task 1, Tokenize character by character\n",
    "\n",
    "all_chars = [char for smile in smiles_data for char in smile] # Flattens chars\n",
    "vocab = sorted(set(all_chars))\n",
    "vocab = ['<PAD>', '<UNK>'] + vocab\n",
    "token_to_idx = {token: idx for idx, token in enumerate(vocab)}\n",
    "\n",
    "def smiles_to_sequence(smile):\n",
    "    return [token_to_idx.get(char, token_to_idx['<UNK>']) for char in smile]\n",
    "\n",
    "tokenized = [smiles_to_sequence(s) for s in smiles_data]\n",
    "max_len = max(len(seq) for seq in tokenized)\n",
    "padded = torch.nn.utils.rnn.pad_sequence(\n",
    "    [torch.tensor(seq) for seq in tokenized],\n",
    "    batch_first=True,\n",
    "    padding_value=token_to_idx['<PAD>']\n",
    ")\n",
    "print(f\"Vocab size: {len(vocab)}\")\n",
    "print(f\"Max SMILES length: {max_len}\")\n",
    "print(\"Example (index 0):\", padded[0])"
   ]
  },
  {
   "cell_type": "code",
   "execution_count": 15,
   "metadata": {
    "colab": {
     "base_uri": "https://localhost:8080/"
    },
    "executionInfo": {
     "elapsed": 198,
     "status": "ok",
     "timestamp": 1749541368713,
     "user": {
      "displayName": "Zoe Vycery",
      "userId": "09224689904146924932"
     },
     "user_tz": -120
    },
    "id": "A0fHF2O6yTpQ",
    "outputId": "aed3c846-f3e7-4c29-f3ec-b127919d31e5"
   },
   "outputs": [
    {
     "name": "stdout",
     "output_type": "stream",
     "text": [
      "Train batches: 837\n",
      "Validation batches: 93\n",
      "Test batches: 79\n"
     ]
    }
   ],
   "source": [
    "class SmilesDataset(Dataset):\n",
    "  def __init__(self, smiles_tensor, energy_tensor, indicies):\n",
    "    self.smiles_tensor = smiles_tensor[indicies]\n",
    "    self.energy_tensor = energy_tensor[indicies]\n",
    "\n",
    "  def __len__(self):\n",
    "    return len(self.energy_tensor)\n",
    "\n",
    "  def __getitem__(self, idx):\n",
    "      return self.smiles_tensor[idx], self.energy_tensor[idx]\n",
    "\n",
    "train_dataset = SmilesDataset(padded, fe_tensor, train_idxes)\n",
    "val_dataset   = SmilesDataset(padded, fe_tensor, val_idxes)\n",
    "test_dataset  = SmilesDataset(padded, fe_tensor, test_idxes)\n",
    "\n",
    "BS = 128\n",
    "train_loader = DataLoader(train_dataset, batch_size=BS, shuffle=True)\n",
    "val_loader = DataLoader(val_dataset, batch_size=BS)\n",
    "test_loader = DataLoader(test_dataset, batch_size=BS)\n",
    "\n",
    "print(\"Train batches:\", len(train_loader))\n",
    "print(\"Validation batches:\", len(val_loader))\n",
    "print(\"Test batches:\", len(test_loader))"
   ]
  },
  {
   "cell_type": "code",
   "execution_count": 20,
   "metadata": {
    "executionInfo": {
     "elapsed": 5,
     "status": "ok",
     "timestamp": 1749541372482,
     "user": {
      "displayName": "Zoe Vycery",
      "userId": "09224689904146924932"
     },
     "user_tz": -120
    },
    "id": "iDZWrjqPAQkP"
   },
   "outputs": [],
   "source": [
    "class SMILESEnergyPredictor(nn.Module):\n",
    "  def __init__(self, vocab_size, embed_dim=128, hidden_dim=256):\n",
    "    super().__init__()\n",
    "    self.embedding = nn.Embedding(vocab_size, embed_dim, padding_idx=token_to_idx['<PAD>'])\n",
    "    self.lstm = nn.LSTM(embed_dim, hidden_dim, batch_first=True)\n",
    "    self.fc = nn.Linear(hidden_dim, 1)\n",
    "  def forward(self, x):\n",
    "    emb = self.embedding(x)\n",
    "    output, (h_n, _) = self.lstm(emb)\n",
    "    out = self.fc(h_n.squeeze(0))\n",
    "    return out.squeeze(1)\n",
    "\n"
   ]
  },
  {
   "cell_type": "code",
   "execution_count": 30,
   "metadata": {
    "executionInfo": {
     "elapsed": 7,
     "status": "ok",
     "timestamp": 1749543070755,
     "user": {
      "displayName": "Zoe Vycery",
      "userId": "09224689904146924932"
     },
     "user_tz": -120
    },
    "id": "ij9ducJyBeE_"
   },
   "outputs": [],
   "source": [
    "device = torch.device(\"cuda\" if torch.cuda.is_available() else \"cpu\")\n",
    "model = SMILESEnergyPredictor(vocab_size=len(token_to_idx)).to(device)\n",
    "criterion = nn.MSELoss()\n",
    "optimizer = optim.Adam(model.parameters(), lr=1e-3)\n",
    "\n",
    "def train_model(model, train_loader, val_loader, epochs=10):\n",
    "  best_val_loss = float('inf')\n",
    "  for epoch in range(epochs):\n",
    "    model.train()\n",
    "    train_loss = 0\n",
    "    pbar = tqdm(train_loader, desc=f\"Epoch {epoch+1}/{epochs}\", leave=False)\n",
    "    for x_batch, y_batch in train_loader:\n",
    "      x_batch = x_batch.to(device)\n",
    "      y_batch = y_batch.to(device)\n",
    "\n",
    "      optimizer.zero_grad()\n",
    "      preds = model(x_batch)\n",
    "      loss = criterion(preds, y_batch)\n",
    "      loss.backward()\n",
    "      optimizer.step()\n",
    "\n",
    "      train_loss += loss.item() * x_batch.size(0)\n",
    "      pbar.set_postfix(train_loss=loss.item())\n",
    "    train_loss /= len(train_loader.dataset)\n",
    "\n",
    "    # Val\n",
    "    model.eval()\n",
    "    val_loss = 0\n",
    "    with torch.no_grad():\n",
    "      for x_batch, y_batch in val_loader:\n",
    "        x_batch = x_batch.to(device)\n",
    "        y_batch = y_batch.to(device)\n",
    "        preds = model(x_batch)\n",
    "        loss = criterion(preds, y_batch)\n",
    "        val_loss += loss.item() * x_batch.size(0)\n",
    "    val_loss /= len(val_loader.dataset)\n",
    "    if val_loss < best_val_loss:\n",
    "      best_val_loss = val_loss\n",
    "      torch.save(model.state_dict(), \"/content/drive/MyDrive/ColabNotebooks/ass2/models/smiles_model.pth\")\n",
    "    print(f\"Epoch {epoch+1:2d} | Train Loss: {train_loss:.4f} | Val Loss: {val_loss:.4f}\")\n",
    "\n",
    "\n",
    "\n"
   ]
  },
  {
   "cell_type": "code",
   "execution_count": 31,
   "metadata": {
    "colab": {
     "base_uri": "https://localhost:8080/",
     "height": 521,
     "referenced_widgets": [
      "405cef14c0fc4b019d0557ec5ed42f30",
      "045b8de4bd654daa8f959dfb1e3b30ad",
      "57503d9afd074ba79fb4f0c42d4e40b6",
      "3905c301d72f4e07a8c2b62e31564194",
      "3ca3b99ae6eb40f0b085cbc323262c2c",
      "38aaae2bb2d849bd9460de5849d7794d",
      "4f92c1b545194432ab419eb6c4789845",
      "6caa631f528c4302bdf008fd6351edab",
      "db50788261694e1287f77efda7c7f69d",
      "c21f83b90c684066bd702a21e93c8978",
      "f55a9f42ff964510bc253d633eaaaa53",
      "25613cf96a62492aa961c64242faf59c",
      "f5d83b4bd297420ea4e53b0a8ff28a26",
      "85f0e0b107fa4a11bcfffd86fd773fd8",
      "5afa4fee4deb4171a5613db2189f6a7f",
      "51e62c6135fe43b79500503eef36cde4",
      "933781442f974024b15ffcb1679d898f",
      "e7b8b0c7fc82478087b9f3f185efef29",
      "a41e9432773c4f40a58f776b1891de90",
      "c31093d374144e4e8ba0fc9802402f79",
      "b33741c9be5846aa8252096af76168cd",
      "03a0602a8be4467faa6fed504b39229f",
      "ce38f38e7c6e47bc9719e2b67bde1377",
      "c16138bfad1643d094551f0a4dc1ad5d",
      "b10b8eb59d474b708ec8a1ea9a85aece",
      "1001e89424ac4152a659fcde3ee5d73f",
      "94815e00eddd4f92a3137583d5fa5d25",
      "39dad53eb912499197ebed061700077b",
      "e738197a9855400aa8daa7b4e68244d5",
      "eedb7e942bef4321a6f7615e2f140c78",
      "592053916b854691ba7a854ece8de538",
      "e0628044c1fe448d9980e7ee6008704f",
      "5beb79d1e2ef434c838c9e3e3d25d5e6",
      "7393240d17ec497d9a373001c2a79e94",
      "71800a3996d14476a8e1ec6f35de3f4e",
      "91df5bc042144814800f5fa261ebbc23",
      "4c13e771a95e4305a202a3d95a3357ca",
      "b2c613aeeb604771b6771544a0f211d1",
      "856bf89f8d904acfb05680f74985fb59",
      "14125e3f2eb64669b7f0d78d69fb234e",
      "1c53fe1e77ec4a88acd0284252e9da2e",
      "d58b67f6de5c466f9b3c9d96ee9bc155",
      "f1ce29030f404443b18a93823e916079",
      "0f8c4dccb4f84e368d0c41121788cdb0",
      "aaefc505bcf6492ba08e390a84210d00",
      "aa8f42d3f7d545f5a8b11d1b86f5de9e",
      "21293d6b696a47d7b795aa1837701fc7",
      "c4e22305800f412da4b96f94f99ec758",
      "6f3aac8a472d4624b59fa0d6df0eff11",
      "dfc9132775104f36a9a6897135d4b6ef",
      "7ccd46a09c1145f6b3e3f85e57cfa27c",
      "7c29cb6e381046e7bc8933b92fdc9a84",
      "5e3bcf38ea7f4c5f92adf7fe015f65b2",
      "81a714c84455446e9de5b04800a7100b",
      "d53d5ef7274546fda85ea7bfd5e6882c",
      "786cc1c76bc945a6a2588dff8bf0ea5a",
      "e9a7fcfa842546e48683e2226b3b5d37",
      "356fa43cb3504b6fa296fed190cf8d1c",
      "665fec1f98e842c7abe505dd2d97db95",
      "9161509f75ba4a2ebb8fab242eec2e5c",
      "77cbfe2697b84c04b7406daf3c0a5503",
      "0e89784056eb442ea7768c0cea372265",
      "eb53b12f4c114ebd9a51d9089d19e4b3",
      "bbca1706124444cf997be12b118dd899",
      "344dc8d6b1c246c1bc12ec0d83843488",
      "978271540b1b4c85a6fe886d269b794f",
      "b94f2cdd146545b08494fbce50612165",
      "d8a32aee91494d329fcd6ffd499caa9e",
      "8bb7fd49da4549f69924835aa2739eca",
      "6887fd7c56ca4dda845e7054ec5ebe76",
      "f74397ef174b4112873e1fae0e1819c7",
      "5e7e19aa00c14c0796ecb3cf5ad6d8e9",
      "8003548847f042d392ec1f5d7f0ebc07",
      "54915624a21a43768c543db5c0fa08dd",
      "ea1b8779291a406385fdde779c1930cb",
      "6e573f82d7934cee9f9058d38df44730",
      "2d4a0e9839e14daf88014802faeae63d",
      "001a9bf676f84c6683d1fa33ee861c77",
      "775c95daa699452ab9d60563e5087dee",
      "897f329e08014cf8b582abecc6c3024b",
      "ad0fea7bd02a4134a680cf26704ec5b3",
      "b7e71ba4f4484cf08141279a5d8c0f42",
      "59d891a093064997916f64047393742c",
      "3b06360a6b16412fa7db940cb52243a5",
      "775cf45f343a455ebaee07dbf1929839",
      "b1de9b8b4cd34406990da538841803c4",
      "efcb7784566c46eca64f7275cf742302",
      "68318dada5ad4163b162e6563495af2f",
      "a15dfa901b274b048d6e864058c5e66a",
      "4851999bbbfc4676a5a93e57834778a1",
      "16aee7ac89dd4170bcb0182655b792af",
      "e855f4e92f7c40c7920634fee1f2e8b3",
      "21423d3a38bc4de691b6f158a7c85385",
      "0b6c2a7de62e448d89f70955a3041a57",
      "1484f76441764201b2780641fd70e0ea",
      "eb6fd13896a04a01b7803d6bb1e17ca9",
      "03d18e9518e74c7cb50b304b61303d30",
      "40304828ba6e4efca4bd662ab451bbec",
      "a218ad1a9acb496d9ac5b5f131170a43",
      "819af2b0e4084d6cb1ff7120176073be",
      "0980da41eaf3471bb93951b6f51b536c",
      "804818f469474f1bb19d9624306d75ca",
      "ff61d1c3fa55431dac816f3fc4d42bc2",
      "3972685cc5424dd28ac6f070b0c7b96a",
      "c25e8a454ccf436388156297c44bb365",
      "8875587aa3394657a419357564b361bf",
      "7948d4498a5f4d4a9618b39086ab4ece",
      "12c35963985a4df291c85fc080689200",
      "d0a8f89761b643d4b1cdc68170cbe562",
      "6b55bb3fc5474fe7badc55b24f5828f1"
     ]
    },
    "executionInfo": {
     "elapsed": 4486535,
     "status": "ok",
     "timestamp": 1749547558495,
     "user": {
      "displayName": "Zoe Vycery",
      "userId": "09224689904146924932"
     },
     "user_tz": -120
    },
    "id": "getIc6_ttzGo",
    "outputId": "8f1b703f-964d-44d9-8c3c-b261becdbe29"
   },
   "outputs": [
    {
     "data": {
      "application/vnd.jupyter.widget-view+json": {
       "model_id": "405cef14c0fc4b019d0557ec5ed42f30",
       "version_major": 2,
       "version_minor": 0
      },
      "text/plain": [
       "Epoch 1/10:   0%|          | 0/837 [00:00<?, ?it/s]"
      ]
     },
     "metadata": {},
     "output_type": "display_data"
    },
    {
     "name": "stdout",
     "output_type": "stream",
     "text": [
      "Epoch  1 | Train Loss: 1.0031 | Val Loss: 1.0110\n"
     ]
    },
    {
     "data": {
      "application/vnd.jupyter.widget-view+json": {
       "model_id": "25613cf96a62492aa961c64242faf59c",
       "version_major": 2,
       "version_minor": 0
      },
      "text/plain": [
       "Epoch 2/10:   0%|          | 0/837 [00:00<?, ?it/s]"
      ]
     },
     "metadata": {},
     "output_type": "display_data"
    },
    {
     "name": "stdout",
     "output_type": "stream",
     "text": [
      "Epoch  2 | Train Loss: 0.4145 | Val Loss: 0.0103\n"
     ]
    },
    {
     "data": {
      "application/vnd.jupyter.widget-view+json": {
       "model_id": "ce38f38e7c6e47bc9719e2b67bde1377",
       "version_major": 2,
       "version_minor": 0
      },
      "text/plain": [
       "Epoch 3/10:   0%|          | 0/837 [00:00<?, ?it/s]"
      ]
     },
     "metadata": {},
     "output_type": "display_data"
    },
    {
     "name": "stdout",
     "output_type": "stream",
     "text": [
      "Epoch  3 | Train Loss: 0.0078 | Val Loss: 0.0076\n"
     ]
    },
    {
     "data": {
      "application/vnd.jupyter.widget-view+json": {
       "model_id": "7393240d17ec497d9a373001c2a79e94",
       "version_major": 2,
       "version_minor": 0
      },
      "text/plain": [
       "Epoch 4/10:   0%|          | 0/837 [00:00<?, ?it/s]"
      ]
     },
     "metadata": {},
     "output_type": "display_data"
    },
    {
     "name": "stdout",
     "output_type": "stream",
     "text": [
      "Epoch  4 | Train Loss: 0.0051 | Val Loss: 0.0043\n"
     ]
    },
    {
     "data": {
      "application/vnd.jupyter.widget-view+json": {
       "model_id": "aaefc505bcf6492ba08e390a84210d00",
       "version_major": 2,
       "version_minor": 0
      },
      "text/plain": [
       "Epoch 5/10:   0%|          | 0/837 [00:00<?, ?it/s]"
      ]
     },
     "metadata": {},
     "output_type": "display_data"
    },
    {
     "name": "stdout",
     "output_type": "stream",
     "text": [
      "Epoch  5 | Train Loss: 0.0046 | Val Loss: 0.0076\n"
     ]
    },
    {
     "data": {
      "application/vnd.jupyter.widget-view+json": {
       "model_id": "786cc1c76bc945a6a2588dff8bf0ea5a",
       "version_major": 2,
       "version_minor": 0
      },
      "text/plain": [
       "Epoch 6/10:   0%|          | 0/837 [00:00<?, ?it/s]"
      ]
     },
     "metadata": {},
     "output_type": "display_data"
    },
    {
     "name": "stdout",
     "output_type": "stream",
     "text": [
      "Epoch  6 | Train Loss: 0.0042 | Val Loss: 0.0032\n"
     ]
    },
    {
     "data": {
      "application/vnd.jupyter.widget-view+json": {
       "model_id": "b94f2cdd146545b08494fbce50612165",
       "version_major": 2,
       "version_minor": 0
      },
      "text/plain": [
       "Epoch 7/10:   0%|          | 0/837 [00:00<?, ?it/s]"
      ]
     },
     "metadata": {},
     "output_type": "display_data"
    },
    {
     "name": "stdout",
     "output_type": "stream",
     "text": [
      "Epoch  7 | Train Loss: 0.0036 | Val Loss: 0.0039\n"
     ]
    },
    {
     "data": {
      "application/vnd.jupyter.widget-view+json": {
       "model_id": "001a9bf676f84c6683d1fa33ee861c77",
       "version_major": 2,
       "version_minor": 0
      },
      "text/plain": [
       "Epoch 8/10:   0%|          | 0/837 [00:00<?, ?it/s]"
      ]
     },
     "metadata": {},
     "output_type": "display_data"
    },
    {
     "name": "stdout",
     "output_type": "stream",
     "text": [
      "Epoch  8 | Train Loss: 0.0034 | Val Loss: 0.0052\n"
     ]
    },
    {
     "data": {
      "application/vnd.jupyter.widget-view+json": {
       "model_id": "a15dfa901b274b048d6e864058c5e66a",
       "version_major": 2,
       "version_minor": 0
      },
      "text/plain": [
       "Epoch 9/10:   0%|          | 0/837 [00:00<?, ?it/s]"
      ]
     },
     "metadata": {},
     "output_type": "display_data"
    },
    {
     "name": "stdout",
     "output_type": "stream",
     "text": [
      "Epoch  9 | Train Loss: 0.0033 | Val Loss: 0.0035\n"
     ]
    },
    {
     "data": {
      "application/vnd.jupyter.widget-view+json": {
       "model_id": "819af2b0e4084d6cb1ff7120176073be",
       "version_major": 2,
       "version_minor": 0
      },
      "text/plain": [
       "Epoch 10/10:   0%|          | 0/837 [00:00<?, ?it/s]"
      ]
     },
     "metadata": {},
     "output_type": "display_data"
    },
    {
     "name": "stdout",
     "output_type": "stream",
     "text": [
      "Epoch 10 | Train Loss: 0.0030 | Val Loss: 0.0041\n"
     ]
    }
   ],
   "source": [
    "train_model(model, train_loader, val_loader, epochs=10)"
   ]
  },
  {
   "cell_type": "code",
   "execution_count": 32,
   "metadata": {
    "colab": {
     "base_uri": "https://localhost:8080/"
    },
    "executionInfo": {
     "elapsed": 12939,
     "status": "ok",
     "timestamp": 1749547706641,
     "user": {
      "displayName": "Zoe Vycery",
      "userId": "09224689904146924932"
     },
     "user_tz": -120
    },
    "id": "BMSfJRn4Hd_l",
    "outputId": "7b36c1a8-c7e8-4fe3-f2e6-c53693a55773"
   },
   "outputs": [
    {
     "name": "stdout",
     "output_type": "stream",
     "text": [
      "Test (normalized) →  MSE: 0.00388 | MAE: 0.04801\n",
      "Test (actual)     →  MSE: 0.41279 | MAE: 0.49505\n"
     ]
    },
    {
     "name": "stderr",
     "output_type": "stream",
     "text": [
      "<ipython-input-32-9c569b538981>:33: DeprecationWarning: __array_wrap__ must accept context and return_scalar arguments (positionally) in the future. (Deprecated NumPy 2.0)\n",
      "  preds_actual   = preds * std + mu\n",
      "<ipython-input-32-9c569b538981>:34: DeprecationWarning: __array_wrap__ must accept context and return_scalar arguments (positionally) in the future. (Deprecated NumPy 2.0)\n",
      "  targets_actual = targets * std + mu\n"
     ]
    }
   ],
   "source": [
    "# model = SMILESEnergyPredictor(vocab_size=len(token_to_idx)).to(device)\n",
    "# model.load_state_dict(torch.load(\"/content/drive/MyDrive/ColabNotebooks/ass2/models/smiles_model.pth\"))\n",
    "model.eval()\n",
    "\n",
    "# 2) Prepare loss functions\n",
    "mse_loss = nn.MSELoss(reduction=\"mean\")\n",
    "mae_loss = nn.L1Loss(reduction=\"mean\")\n",
    "\n",
    "# 3) Loop over test set\n",
    "all_preds = []\n",
    "all_targets = []\n",
    "\n",
    "with torch.no_grad():\n",
    "    for x_batch, y_batch in test_loader:\n",
    "        x_batch = x_batch.to(device)\n",
    "        y_batch = y_batch.to(device)\n",
    "        preds = model(x_batch)\n",
    "\n",
    "        all_preds.append(preds.cpu())\n",
    "        all_targets.append(y_batch.cpu())\n",
    "\n",
    "# 4) Concatenate\n",
    "preds = torch.cat(all_preds)    # shape [N]\n",
    "targets = torch.cat(all_targets)\n",
    "\n",
    "# 5) Metrics in normalized space\n",
    "mse_norm = mse_loss(preds, targets).item()\n",
    "mae_norm = mae_loss(preds, targets).item()\n",
    "\n",
    "print(f\"Test (normalized) →  MSE: {mse_norm:.5f} | MAE: {mae_norm:.5f}\")\n",
    "\n",
    "# 6) Denormalize to actual formation energies\n",
    "preds_actual   = preds * std + mu\n",
    "targets_actual = targets * std + mu\n",
    "\n",
    "mse_actual = mse_loss(preds_actual, targets_actual).item()\n",
    "mae_actual = mae_loss(preds_actual, targets_actual).item()\n",
    "\n",
    "print(f\"Test (actual)     →  MSE: {mse_actual:.5f} | MAE: {mae_actual:.5f}\")"
   ]
  },
  {
   "cell_type": "code",
   "execution_count": null,
   "metadata": {},
   "outputs": [],
   "source": [
    "# geometric"
   ]
  },
  {
   "cell_type": "code",
   "execution_count": 37,
   "metadata": {},
   "outputs": [],
   "source": [
    "\n",
    "from torch_geometric.data import Data, DataLoader as GeometricDataLoader\n",
    "from torch_geometric.nn import SchNet\n",
    "from torch.optim.lr_scheduler import ReduceLROnPlateau \n",
    "\n",
    "def create_molecular_graph(positions, atom_types, cutoff=5.0):\n",
    "    \"\"\"\n",
    "    Create molecular graph for SchNet (uses z for atomic numbers and pos for positions).\n",
    "    \"\"\"\n",
    "    positions = np.array(positions, dtype=np.float32)\n",
    "    atom_types = np.array(atom_types, dtype=np.int64)\n",
    "    \n",
    "    # Convert to tensors\n",
    "    pos = torch.tensor(positions, dtype=torch.float32)\n",
    "    z = torch.tensor(atom_types, dtype=torch.long)  # SchNet uses 'z' for atomic numbers\n",
    "    \n",
    "    # SchNet handles edge creation internally based on cutoff distance\n",
    "    data = Data(z=z, pos=pos)\n",
    "    \n",
    "    return data\n"
   ]
  },
  {
   "cell_type": "code",
   "execution_count": 38,
   "metadata": {},
   "outputs": [
    {
     "name": "stderr",
     "output_type": "stream",
     "text": [
      "c:\\Users\\Andy\\DL_ass2\\.venv\\lib\\site-packages\\torch_geometric\\deprecation.py:26: UserWarning: 'data.DataLoader' is deprecated, use 'loader.DataLoader' instead\n",
      "  warnings.warn(out)\n"
     ]
    }
   ],
   "source": [
    "class GeometricDataset(Dataset):\n",
    "    \"\"\"Dataset for geometric molecular data\"\"\"\n",
    "    \n",
    "    def __init__(self, pos_data, type_data, energy_tensor, indices, cutoff=5.0):\n",
    "        self.pos_data = [pos_data[i] for i in indices]\n",
    "        self.type_data = [type_data[i] for i in indices]\n",
    "        self.energy_tensor = energy_tensor[indices]\n",
    "        self.cutoff = cutoff\n",
    "    \n",
    "    def __len__(self):\n",
    "        return len(self.energy_tensor)\n",
    "    \n",
    "    def __getitem__(self, idx):\n",
    "        # Create molecular graph\n",
    "        graph = create_molecular_graph(\n",
    "            self.pos_data[idx], \n",
    "            self.type_data[idx], \n",
    "        )\n",
    "        graph.y = self.energy_tensor[idx]\n",
    "        return graph\n",
    "\n",
    "# Create geometric datasets\n",
    "geo_train_dataset = GeometricDataset(pos_data, type_data, fe_tensor, train_idxes)\n",
    "geo_val_dataset = GeometricDataset(pos_data, type_data, fe_tensor, val_idxes)\n",
    "geo_test_dataset = GeometricDataset(pos_data, type_data, fe_tensor, test_idxes)\n",
    "\n",
    "# Create data loaders\n",
    "geo_batch_size = 32  # Smaller batch size for graphs\n",
    "geo_train_loader = GeometricDataLoader(geo_train_dataset, batch_size=geo_batch_size, shuffle=True)\n",
    "geo_val_loader = GeometricDataLoader(geo_val_dataset, batch_size=geo_batch_size)\n",
    "geo_test_loader = GeometricDataLoader(geo_test_dataset, batch_size=geo_batch_size)\n"
   ]
  },
  {
   "cell_type": "code",
   "execution_count": 41,
   "metadata": {},
   "outputs": [],
   "source": [
    "class GeometricEnergyPredictor(nn.Module):\n",
    "    \"\"\"\n",
    "    Simple SchNet implementation for formation energy prediction.\n",
    "    SchNet is specifically designed for molecular property prediction from 3D coordinates.\n",
    "    \"\"\"\n",
    "    \n",
    "    def __init__(self, hidden_channels=128, num_filters=128, num_interactions=6, \n",
    "                 num_gaussians=50, cutoff=5.0):\n",
    "        super().__init__()\n",
    "        \n",
    "        self.schnet = SchNet(\n",
    "            hidden_channels=hidden_channels,\n",
    "            num_filters=num_filters,\n",
    "            num_interactions=num_interactions,\n",
    "            num_gaussians=num_gaussians,\n",
    "            cutoff=cutoff,\n",
    "            readout='mean'  # Global mean pooling\n",
    "        )\n",
    "        \n",
    "    def forward(self, data):\n",
    "        return self.schnet(data.z, data.pos, data.batch).squeeze(-1)\n",
    "\n",
    "device = torch.device(\"cuda\" if torch.cuda.is_available() else \"cpu\")\n",
    "\n",
    "geo_model = GeometricEnergyPredictor(\n",
    "    hidden_channels=128,\n",
    "    num_filters=128,\n",
    "    num_interactions=6,\n",
    "    num_gaussians=50,\n",
    "    cutoff=5.0  # 10 Angstrom cutoff\n",
    ").to(device)\n"
   ]
  },
  {
   "cell_type": "code",
   "execution_count": 42,
   "metadata": {},
   "outputs": [
    {
     "name": "stdout",
     "output_type": "stream",
     "text": [
      "Training geometric model...\n"
     ]
    },
    {
     "name": "stderr",
     "output_type": "stream",
     "text": [
      "                                                                                    \r"
     ]
    },
    {
     "name": "stdout",
     "output_type": "stream",
     "text": [
      "Epoch  1 | Train Loss: 0.056429 | Val Loss: 0.013421 | LR: 0.001000\n"
     ]
    },
    {
     "name": "stderr",
     "output_type": "stream",
     "text": [
      "                                                                                    \r"
     ]
    },
    {
     "name": "stdout",
     "output_type": "stream",
     "text": [
      "Epoch  2 | Train Loss: 0.012619 | Val Loss: 0.008684 | LR: 0.001000\n"
     ]
    },
    {
     "name": "stderr",
     "output_type": "stream",
     "text": [
      "                                                                                     \r"
     ]
    },
    {
     "name": "stdout",
     "output_type": "stream",
     "text": [
      "Epoch  3 | Train Loss: 0.007135 | Val Loss: 0.027174 | LR: 0.001000\n"
     ]
    },
    {
     "name": "stderr",
     "output_type": "stream",
     "text": [
      "                                                                                     \r"
     ]
    },
    {
     "name": "stdout",
     "output_type": "stream",
     "text": [
      "Epoch  4 | Train Loss: 0.006573 | Val Loss: 0.033419 | LR: 0.001000\n"
     ]
    },
    {
     "name": "stderr",
     "output_type": "stream",
     "text": [
      "                                                                                     \r"
     ]
    },
    {
     "name": "stdout",
     "output_type": "stream",
     "text": [
      "Epoch  5 | Train Loss: 0.004607 | Val Loss: 0.009894 | LR: 0.001000\n"
     ]
    },
    {
     "name": "stderr",
     "output_type": "stream",
     "text": [
      "                                                                                     \r"
     ]
    },
    {
     "name": "stdout",
     "output_type": "stream",
     "text": [
      "Epoch  6 | Train Loss: 0.003787 | Val Loss: 0.002163 | LR: 0.001000\n"
     ]
    },
    {
     "name": "stderr",
     "output_type": "stream",
     "text": [
      "                                                                                     \r"
     ]
    },
    {
     "name": "stdout",
     "output_type": "stream",
     "text": [
      "Epoch  7 | Train Loss: 0.003812 | Val Loss: 0.002266 | LR: 0.001000\n"
     ]
    },
    {
     "name": "stderr",
     "output_type": "stream",
     "text": [
      "                                                                                     \r"
     ]
    },
    {
     "name": "stdout",
     "output_type": "stream",
     "text": [
      "Epoch  8 | Train Loss: 0.003288 | Val Loss: 0.007521 | LR: 0.001000\n"
     ]
    },
    {
     "name": "stderr",
     "output_type": "stream",
     "text": [
      "                                                                                    \r"
     ]
    },
    {
     "name": "stdout",
     "output_type": "stream",
     "text": [
      "Epoch  9 | Train Loss: 0.003071 | Val Loss: 0.007656 | LR: 0.001000\n"
     ]
    },
    {
     "name": "stderr",
     "output_type": "stream",
     "text": [
      "                                                                                      \r"
     ]
    },
    {
     "name": "stdout",
     "output_type": "stream",
     "text": [
      "Epoch 10 | Train Loss: 0.002766 | Val Loss: 0.001506 | LR: 0.001000\n"
     ]
    },
    {
     "name": "stderr",
     "output_type": "stream",
     "text": [
      "                                                                                      \r"
     ]
    },
    {
     "name": "stdout",
     "output_type": "stream",
     "text": [
      "Epoch 11 | Train Loss: 0.002940 | Val Loss: 0.001847 | LR: 0.001000\n"
     ]
    },
    {
     "name": "stderr",
     "output_type": "stream",
     "text": [
      "                                                                                      \r"
     ]
    },
    {
     "name": "stdout",
     "output_type": "stream",
     "text": [
      "Epoch 12 | Train Loss: 0.002764 | Val Loss: 0.001683 | LR: 0.001000\n"
     ]
    },
    {
     "name": "stderr",
     "output_type": "stream",
     "text": [
      "                                                                                      \r"
     ]
    },
    {
     "name": "stdout",
     "output_type": "stream",
     "text": [
      "Epoch 13 | Train Loss: 0.003044 | Val Loss: 0.002654 | LR: 0.001000\n"
     ]
    },
    {
     "name": "stderr",
     "output_type": "stream",
     "text": [
      "                                                                                      \r"
     ]
    },
    {
     "name": "stdout",
     "output_type": "stream",
     "text": [
      "Epoch 14 | Train Loss: 0.002348 | Val Loss: 0.002315 | LR: 0.001000\n"
     ]
    },
    {
     "name": "stderr",
     "output_type": "stream",
     "text": [
      "                                                                                      \r"
     ]
    },
    {
     "name": "stdout",
     "output_type": "stream",
     "text": [
      "Epoch 15 | Train Loss: 0.002441 | Val Loss: 0.001452 | LR: 0.001000\n",
      "Best validation loss: 0.001452\n"
     ]
    }
   ],
   "source": [
    "def train_geometric_model(model, train_loader, val_loader, epochs=15, lr=1e-3):\n",
    "    \"\"\"Train the geometric model for formation energy prediction\"\"\"\n",
    "    \n",
    "    criterion = nn.MSELoss()\n",
    "    optimizer = optim.Adam(model.parameters(), lr=lr, weight_decay=1e-5)\n",
    "    scheduler = ReduceLROnPlateau(optimizer, 'min', patience=5)\n",
    "    \n",
    "    best_val_loss = float('inf')\n",
    "    \n",
    "    for epoch in range(epochs):\n",
    "        # Training\n",
    "        model.train()\n",
    "        train_loss = 0\n",
    "        num_batches = 0\n",
    "        \n",
    "        pbar = tqdm(train_loader, desc=f\"Epoch {epoch+1}/{epochs}\", leave=False)\n",
    "        for batch in pbar:\n",
    "            batch = batch.to(device)\n",
    "            optimizer.zero_grad()\n",
    "            preds = model(batch)\n",
    "            loss = criterion(preds, batch.y)\n",
    "            loss.backward()\n",
    "            # Gradient clipping\n",
    "            torch.nn.utils.clip_grad_norm_(model.parameters(), max_norm=1.0)\n",
    "            optimizer.step()\n",
    "            train_loss += loss.item()\n",
    "            num_batches += 1\n",
    "            pbar.set_postfix(train_loss=loss.item())\n",
    "        \n",
    "        train_loss /= num_batches\n",
    "        \n",
    "        # Validation\n",
    "        model.eval()\n",
    "        val_loss = 0\n",
    "        num_val_batches = 0\n",
    "        \n",
    "        with torch.no_grad():\n",
    "            for batch in val_loader:\n",
    "                batch = batch.to(device)\n",
    "                preds = model(batch)\n",
    "                loss = criterion(preds, batch.y)\n",
    "                val_loss += loss.item()\n",
    "                num_val_batches += 1\n",
    "        \n",
    "        val_loss /= num_val_batches\n",
    "        \n",
    "        # Learning rate scheduling\n",
    "        scheduler.step(val_loss)\n",
    "        \n",
    "        # Save best model\n",
    "        if val_loss < best_val_loss:\n",
    "            best_val_loss = val_loss\n",
    "            torch.save(model.state_dict(), \"models/geometric_model.pth\")\n",
    "        \n",
    "        print(f\"Epoch {epoch+1:2d} | Train Loss: {train_loss:.6f} | Val Loss: {val_loss:.6f} | LR: {optimizer.param_groups[0]['lr']:.6f}\")\n",
    "    \n",
    "    print(f\"Best validation loss: {best_val_loss:.6f}\")\n",
    "\n",
    "# Train the geometric model\n",
    "print(\"Training geometric model...\")\n",
    "train_geometric_model(geo_model, geo_train_loader, geo_val_loader, epochs=15, lr=1e-3)"
   ]
  },
  {
   "cell_type": "code",
   "execution_count": 43,
   "metadata": {},
   "outputs": [
    {
     "name": "stdout",
     "output_type": "stream",
     "text": [
      "Evaluating geometric model on test set...\n"
     ]
    },
    {
     "name": "stderr",
     "output_type": "stream",
     "text": [
      "Evaluating: 100%|██████████| 313/313 [00:01<00:00, 217.80it/s]"
     ]
    },
    {
     "name": "stdout",
     "output_type": "stream",
     "text": [
      "Geometric Model Test Results (normalized) →  MSE: 0.00137 | MAE: 0.02500\n",
      "Geometric Model Test Results (actual)     →  MSE: 0.14579 | MAE: 0.25775\n",
      "\n",
      "Model Comparison:\n",
      "SMILES Model   (actual)     →  MSE: 0.41279 | MAE: 0.49505\n",
      "Geometric Model (actual)    →  MSE: 0.14579 | MAE: 0.25775\n",
      "Geometric model outperforms SMILES model!\n"
     ]
    },
    {
     "name": "stderr",
     "output_type": "stream",
     "text": [
      "\n",
      "C:\\Users\\Andy\\AppData\\Local\\Temp\\ipykernel_9532\\987267128.py:35: DeprecationWarning: __array_wrap__ must accept context and return_scalar arguments (positionally) in the future. (Deprecated NumPy 2.0)\n",
      "  preds_actual = preds * std + mu\n",
      "C:\\Users\\Andy\\AppData\\Local\\Temp\\ipykernel_9532\\987267128.py:36: DeprecationWarning: __array_wrap__ must accept context and return_scalar arguments (positionally) in the future. (Deprecated NumPy 2.0)\n",
      "  targets_actual = targets * std + mu\n"
     ]
    }
   ],
   "source": [
    "# Evaluate the geometric model\n",
    "print(\"Evaluating geometric model on test set...\")\n",
    "\n",
    "# Load the best model\n",
    "geo_model.load_state_dict(torch.load(\"models/geometric_model.pth\"))\n",
    "geo_model.eval()\n",
    "\n",
    "# Loss functions\n",
    "mse_loss = nn.MSELoss(reduction=\"mean\")\n",
    "mae_loss = nn.L1Loss(reduction=\"mean\")\n",
    "\n",
    "# Collect predictions\n",
    "all_preds = []\n",
    "all_targets = []\n",
    "\n",
    "with torch.no_grad():\n",
    "    for batch in tqdm(geo_test_loader, desc=\"Evaluating\"):\n",
    "        batch = batch.to(device)\n",
    "        preds = geo_model(batch)\n",
    "        \n",
    "        all_preds.append(preds.cpu())\n",
    "        all_targets.append(batch.y.cpu())\n",
    "\n",
    "# Concatenate all predictions and targets\n",
    "preds = torch.cat(all_preds)\n",
    "targets = torch.cat(all_targets)\n",
    "\n",
    "# Metrics in normalized space\n",
    "mse_norm = mse_loss(preds, targets).item()\n",
    "mae_norm = mae_loss(preds, targets).item()\n",
    "\n",
    "print(f\"Geometric Model Test Results (normalized) →  MSE: {mse_norm:.5f} | MAE: {mae_norm:.5f}\")\n",
    "\n",
    "# Denormalize to actual formation energies\n",
    "preds_actual = preds * std + mu\n",
    "targets_actual = targets * std + mu\n",
    "\n",
    "mse_actual = mse_loss(preds_actual, targets_actual).item()\n",
    "mae_actual = mae_loss(preds_actual, targets_actual).item()\n",
    "\n",
    "print(f\"Geometric Model Test Results (actual)     →  MSE: {mse_actual:.5f} | MAE: {mae_actual:.5f}\")\n",
    "\n",
    "# Compare with SMILES model results\n",
    "print(\"\\nModel Comparison:\")\n",
    "print(\"SMILES Model   (actual)     →  MSE: 0.41279 | MAE: 0.49505\")\n",
    "print(f\"Geometric Model (actual)    →  MSE: {mse_actual:.5f} | MAE: {mae_actual:.5f}\")\n",
    "\n",
    "if mse_actual < 0.41279:\n",
    "    print(\"Geometric model outperforms SMILES model!\")\n",
    "else:\n",
    "    print(\"SMILES model still has lower error.\")"
   ]
  },
  {
   "cell_type": "code",
   "execution_count": 19,
   "metadata": {},
   "outputs": [
    {
     "data": {
      "image/png": "[encoded data removed]",
      "text/plain": [
       "<Figure size 1000x800 with 1 Axes>"
      ]
     },
     "metadata": {},
     "output_type": "display_data"
    },
    {
     "name": "stdout",
     "output_type": "stream",
     "text": [
      "R² Score on test set: 0.8822\n"
     ]
    }
   ],
   "source": [
    "# Visualize some predictions vs actual values\n",
    "import matplotlib.pyplot as plt\n",
    "\n",
    "# Create a scatter plot comparing predictions vs actual values\n",
    "plt.figure(figsize=(10, 8))\n",
    "\n",
    "# Convert to numpy for plotting\n",
    "preds_np = preds_actual.numpy()\n",
    "targets_np = targets_actual.numpy()\n",
    "\n",
    "# Sample for visualization (too many points)\n",
    "n_sample = 2000\n",
    "indices = np.random.choice(len(preds_np), n_sample, replace=False)\n",
    "preds_sample = preds_np[indices]\n",
    "targets_sample = targets_np[indices]\n",
    "\n",
    "plt.scatter(targets_sample, preds_sample, alpha=0.5, s=20)\n",
    "plt.plot([-100, 20], [-100, 20], 'r--', label='Perfect prediction')\n",
    "plt.xlabel('Actual Formation Energy (kcal/mol)')\n",
    "plt.ylabel('Predicted Formation Energy (kcal/mol)')\n",
    "plt.title('Geometric Model: Predicted vs Actual Formation Energy')\n",
    "plt.legend()\n",
    "plt.grid(True, alpha=0.3)\n",
    "\n",
    "# Add R² score\n",
    "from sklearn.metrics import r2_score\n",
    "r2 = r2_score(targets_sample, preds_sample)\n",
    "plt.text(0.05, 0.95, f'R² = {r2:.3f}', transform=plt.gca().transAxes, \n",
    "         bbox=dict(boxstyle='round', facecolor='white', alpha=0.8))\n",
    "\n",
    "plt.tight_layout()\n",
    "plt.show()\n",
    "\n",
    "print(f\"R² Score on test set: {r2_score(targets_np, preds_np):.4f}\")"
   ]
  },
  {
   "cell_type": "markdown",
   "metadata": {
    "id": "n0zvKnpLGf9v"
   },
   "source": [
    "## Task 2"
   ]
  },
  {
   "cell_type": "code",
   "execution_count": null,
   "metadata": {
    "id": "AC1KICrZGgkY"
   },
   "outputs": [],
   "source": []
  },
  {
   "cell_type": "markdown",
   "metadata": {
    "id": "5mIuOY4BGxqU"
   },
   "source": [
    "## Task 3"
   ]
  },
  {
   "cell_type": "code",
   "execution_count": 1,
   "metadata": {
    "id": "z_NgxsO3GxEE"
   },
   "outputs": [],
   "source": [
    "def is_valid_smiles(smiles):\n",
    "    if smiles is None:\n",
    "        return False\n",
    "    try:\n",
    "        mol = Chem.MolFromSmiles(smiles)\n",
    "        return mol is not None\n",
    "    except:\n",
    "        return False\n",
    "\n",
    "def canonicalize(smiles):\n",
    "    try:\n",
    "        mol = Chem.MolFromSmiles(smiles)\n",
    "        if mol:\n",
    "            return Chem.MolToSmiles(mol, canonical=True)\n",
    "        return 'None'\n",
    "    except:\n",
    "        return 'None'"
   ]
  },
  {
   "cell_type": "code",
   "execution_count": 2,
   "metadata": {
    "id": "SN_jGgOwG4kK"
   },
   "outputs": [
    {
     "data": {
      "text/plain": [
       "('None', 'None')"
      ]
     },
     "execution_count": 2,
     "metadata": {},
     "output_type": "execute_result"
    }
   ],
   "source": [
    "canonicalize(\"COO\"), canonicalize(\"O(C)O\")"
   ]
  },
  {
   "cell_type": "code",
   "execution_count": 3,
   "metadata": {
    "id": "-bhjYhYrHCuQ"
   },
   "outputs": [
    {
     "data": {
      "text/plain": [
       "(False, False, False)"
      ]
     },
     "execution_count": 3,
     "metadata": {},
     "output_type": "execute_result"
    }
   ],
   "source": [
    "is_valid_smiles(\"COO\"), is_valid_smiles(\"O(C)O\"), is_valid_smiles(\"C##\")"
   ]
  },
  {
   "cell_type": "markdown",
   "metadata": {},
   "source": [
    "**Objective**: Build a model that generates 5000 molecules\n",
    "\n",
    "**LSTM**"
   ]
  },
  {
   "cell_type": "code",
   "execution_count": 53,
   "metadata": {
    "id": "0_YgzDpMH-Vl"
   },
   "outputs": [
    {
     "name": "stdout",
     "output_type": "stream",
     "text": [
      "Generation vocabulary size: 28\n",
      "Vocabulary: ['<PAD>', '<START>', '<END>', '<UNK>', '#', '(', ')', '+', '-', '/', '1', '2', '3', '4', '5', '=', '@', 'C', 'F', 'H', 'N', 'O', '[', '\\\\', ']', 'c', 'n', 'o']\n",
      "Training set size for novelty check: 106979\n"
     ]
    }
   ],
   "source": [
    "# Utility functions for SMILES validation and processing\n",
    "def is_valid_smiles(smiles):\n",
    "    \"\"\"Check if SMILES string is chemically valid using RDKit.\"\"\"\n",
    "    if smiles is None or len(smiles) == 0:\n",
    "        return False\n",
    "    try:\n",
    "        mol = Chem.MolFromSmiles(smiles)\n",
    "        return mol is not None\n",
    "    except:\n",
    "        return False\n",
    "\n",
    "def canonicalize(smiles):\n",
    "    \"\"\"Convert SMILES to canonical form.\"\"\"\n",
    "    try:\n",
    "        mol = Chem.MolFromSmiles(smiles)\n",
    "        if mol:\n",
    "            return Chem.MolToSmiles(mol, canonical=True)\n",
    "        return None\n",
    "    except:\n",
    "        return None\n",
    "\n",
    "def clean_smiles(smiles):\n",
    "    \"\"\"Clean generated SMILES string.\"\"\"\n",
    "    # Remove padding tokens and unknown tokens\n",
    "    cleaned = smiles.replace('<PAD>', '').replace('<UNK>', '').replace('<END>', '')\n",
    "    return cleaned.strip()\n",
    "\n",
    "# Enhanced vocabulary for generation (including special tokens)\n",
    "def create_generation_vocab():\n",
    "    \"\"\"Create vocabulary specifically for SMILES generation.\"\"\"\n",
    "    # Get all unique characters from training SMILES\n",
    "    all_chars = set()\n",
    "    for smile in smiles_data:\n",
    "        all_chars.update(smile)\n",
    "    \n",
    "    # Add special tokens for generation\n",
    "    special_tokens = ['<PAD>', '<START>', '<END>', '<UNK>']\n",
    "    vocab = special_tokens + sorted(list(all_chars))\n",
    "    \n",
    "    char_to_idx = {char: idx for idx, char in enumerate(vocab)}\n",
    "    idx_to_char = {idx: char for idx, char in enumerate(vocab)}\n",
    "    \n",
    "    return vocab, char_to_idx, idx_to_char\n",
    "\n",
    "# Create generation vocabulary\n",
    "gen_vocab, char_to_idx, idx_to_char = create_generation_vocab()\n",
    "print(f\"Generation vocabulary size: {len(gen_vocab)}\")\n",
    "print(f\"Vocabulary: {gen_vocab}\")\n",
    "\n",
    "# Create training set for quick novelty checking\n",
    "training_smiles_set = set(smiles_data[i] for i in train_idxes)\n",
    "print(f\"Training set size for novelty check: {len(training_smiles_set)}\")"
   ]
  },
  {
   "cell_type": "code",
   "execution_count": 54,
   "metadata": {},
   "outputs": [],
   "source": [
    "# Approach 1: Character-level LSTM Generator\n",
    "class SMILESGenerator(nn.Module):\n",
    "    \"\"\"Character-level LSTM for autoregressive SMILES generation.\"\"\"\n",
    "    \n",
    "    def __init__(self, vocab_size, embed_dim=256, hidden_dim=512, num_layers=3, dropout=0.3):\n",
    "        super().__init__()\n",
    "        self.vocab_size = vocab_size\n",
    "        self.hidden_dim = hidden_dim\n",
    "        self.num_layers = num_layers\n",
    "        \n",
    "        # Embedding layer\n",
    "        self.embedding = nn.Embedding(vocab_size, embed_dim)\n",
    "        \n",
    "        # LSTM layers\n",
    "        self.lstm = nn.LSTM(\n",
    "            embed_dim, hidden_dim, \n",
    "            num_layers=num_layers,\n",
    "            batch_first=True, \n",
    "            dropout=dropout if num_layers > 1 else 0\n",
    "        )\n",
    "        \n",
    "        # Output layer\n",
    "        self.dropout = nn.Dropout(dropout)\n",
    "        self.fc = nn.Linear(hidden_dim, vocab_size)\n",
    "        \n",
    "    def forward(self, x, hidden=None):\n",
    "        \"\"\"Forward pass for training.\"\"\"\n",
    "        # x shape: (batch_size, seq_len)\n",
    "        embedded = self.embedding(x)  # (batch_size, seq_len, embed_dim)\n",
    "        \n",
    "        # LSTM forward\n",
    "        output, hidden = self.lstm(embedded, hidden)  # (batch_size, seq_len, hidden_dim)\n",
    "        \n",
    "        # Apply dropout and linear layer\n",
    "        output = self.dropout(output)\n",
    "        logits = self.fc(output)  # (batch_size, seq_len, vocab_size)\n",
    "        \n",
    "        return logits, hidden\n",
    "    \n",
    "    def generate_smiles(self, max_length=100, temperature=0.8, start_token='<START>', end_token='<END>'):\n",
    "        \"\"\"Generate a single SMILES string.\"\"\"\n",
    "        self.eval()\n",
    "        with torch.no_grad():\n",
    "            # Initialize with start token\n",
    "            current_token = char_to_idx[start_token]\n",
    "            generated = [current_token]\n",
    "            hidden = None\n",
    "            \n",
    "            for _ in range(max_length):\n",
    "                # Prepare input\n",
    "                x = torch.tensor([[current_token]], device=device)\n",
    "                \n",
    "                # Forward pass\n",
    "                logits, hidden = self.forward(x, hidden)\n",
    "                \n",
    "                # Apply temperature sampling\n",
    "                logits = logits[0, -1] / temperature\n",
    "                probs = torch.softmax(logits, dim=-1)\n",
    "                \n",
    "                # Sample next token\n",
    "                next_token = torch.multinomial(probs, 1).item()\n",
    "                generated.append(next_token)\n",
    "                \n",
    "                # Check for end token\n",
    "                if next_token == char_to_idx[end_token]:\n",
    "                    break\n",
    "                    \n",
    "                current_token = next_token\n",
    "            \n",
    "            # Convert to SMILES string\n",
    "            smiles = ''.join([idx_to_char[idx] for idx in generated[1:-1]])  # Remove START/END\n",
    "            return clean_smiles(smiles)\n"
   ]
  },
  {
   "cell_type": "code",
   "execution_count": 55,
   "metadata": {},
   "outputs": [],
   "source": [
    "\n",
    "# Data preparation for generative models\n",
    "def prepare_generation_data(smiles_list, char_to_idx, max_len=None):\n",
    "    \"\"\"Prepare SMILES data for generative model training.\"\"\"\n",
    "    if max_len is None:\n",
    "        max_len = max(len(s) for s in smiles_list) + 2  # +2 for START/END tokens\n",
    "    \n",
    "    sequences = []\n",
    "    for smiles in smiles_list:\n",
    "        # Add start and end tokens\n",
    "        seq = ['<START>'] + list(smiles) + ['<END>']\n",
    "        # Convert to indices\n",
    "        seq_indices = [char_to_idx.get(char, char_to_idx['<UNK>']) for char in seq]\n",
    "        # Pad to max length\n",
    "        if len(seq_indices) < max_len:\n",
    "            seq_indices.extend([char_to_idx['<PAD>']] * (max_len - len(seq_indices)))\n",
    "        else:\n",
    "            seq_indices = seq_indices[:max_len]\n",
    "        sequences.append(seq_indices)\n",
    "    \n",
    "    return torch.tensor(sequences, dtype=torch.long)\n",
    "\n",
    "# Training functions\n",
    "def train_lstm_generator(model, train_data, val_data, epochs=25, lr=1e-3):\n",
    "    \"\"\"Train the LSTM generator.\"\"\"\n",
    "    optimizer = torch.optim.AdamW(model.parameters(), lr=lr, weight_decay=1e-4)\n",
    "    criterion = nn.CrossEntropyLoss(ignore_index=char_to_idx['<PAD>'])\n",
    "    scheduler = torch.optim.lr_scheduler.ReduceLROnPlateau(optimizer, patience=5, factor=0.5)\n",
    "    \n",
    "    train_loader = DataLoader(train_data, batch_size=64, shuffle=True)\n",
    "    val_loader = DataLoader(val_data, batch_size=64)\n",
    "    \n",
    "    best_val_loss = float('inf')\n",
    "    \n",
    "    for epoch in range(epochs):\n",
    "        # Training\n",
    "        model.train()\n",
    "        train_loss = 0\n",
    "        for batch in train_loader:\n",
    "            batch = batch.to(device)\n",
    "            optimizer.zero_grad()\n",
    "            \n",
    "            # Input and target (shifted by one)\n",
    "            input_seq = batch[:, :-1]\n",
    "            target_seq = batch[:, 1:]\n",
    "            \n",
    "            logits, _ = model(input_seq)\n",
    "            loss = criterion(logits.reshape(-1, model.vocab_size), target_seq.reshape(-1))\n",
    "            \n",
    "            loss.backward()\n",
    "            torch.nn.utils.clip_grad_norm_(model.parameters(), max_norm=1.0)\n",
    "            optimizer.step()\n",
    "            \n",
    "            train_loss += loss.item()\n",
    "        \n",
    "        # Validation\n",
    "        model.eval()\n",
    "        val_loss = 0\n",
    "        with torch.no_grad():\n",
    "            for batch in val_loader:\n",
    "                batch = batch.to(device)\n",
    "                input_seq = batch[:, :-1]\n",
    "                target_seq = batch[:, 1:]\n",
    "                \n",
    "                logits, _ = model(input_seq)\n",
    "                loss = criterion(logits.reshape(-1, model.vocab_size), target_seq.reshape(-1))\n",
    "                val_loss += loss.item()\n",
    "        \n",
    "        train_loss /= len(train_loader)\n",
    "        val_loss /= len(val_loader)\n",
    "        \n",
    "        scheduler.step(val_loss)\n",
    "        \n",
    "        if val_loss < best_val_loss:\n",
    "            best_val_loss = val_loss\n",
    "            torch.save(model.state_dict(), 'models/lstm_generator_best.pth')\n",
    "        \n",
    "        if epoch % 5 == 0:\n",
    "            print(f\"Epoch {epoch:2d} | Train Loss: {train_loss:.4f} | Val Loss: {val_loss:.4f}\")\n"
   ]
  },
  {
   "cell_type": "code",
   "execution_count": 56,
   "metadata": {},
   "outputs": [
    {
     "name": "stdout",
     "output_type": "stream",
     "text": [
      "Training data shape: torch.Size([50000, 64])\n",
      "Validation data shape: torch.Size([5000, 64])\n",
      "Max sequence length: 64\n",
      "Using device: cuda\n",
      "LSTM Generator parameters: 5,800,988\n"
     ]
    }
   ],
   "source": [
    "# Get training SMILES\n",
    "train_smiles = [smiles_data[i] for i in train_idxes[:50000]]  # Use subset for faster training\n",
    "val_smiles = [smiles_data[i] for i in val_idxes[:5000]]\n",
    "\n",
    "# Prepare data\n",
    "train_gen_data = prepare_generation_data(train_smiles, char_to_idx)\n",
    "val_gen_data = prepare_generation_data(val_smiles, char_to_idx, max_len=train_gen_data.size(1))\n",
    "\n",
    "print(f\"Training data shape: {train_gen_data.shape}\")\n",
    "print(f\"Validation data shape: {val_gen_data.shape}\")\n",
    "print(f\"Max sequence length: {train_gen_data.size(1)}\")\n",
    "\n",
    "# Create and train models\n",
    "device = torch.device(\"cuda\" if torch.cuda.is_available() else \"cpu\")\n",
    "print(f\"Using device: {device}\")\n",
    "\n",
    "\n",
    "lstm_generator = SMILESGenerator(\n",
    "    vocab_size=len(gen_vocab),\n",
    "    embed_dim=256,\n",
    "    hidden_dim=512,\n",
    "    num_layers=3,\n",
    "    dropout=0.3\n",
    ").to(device)\n",
    "\n",
    "print(f\"LSTM Generator parameters: {sum(p.numel() for p in lstm_generator.parameters()):,}\")\n"
   ]
  },
  {
   "cell_type": "code",
   "execution_count": 58,
   "metadata": {},
   "outputs": [
    {
     "name": "stdout",
     "output_type": "stream",
     "text": [
      "Epoch  0 | Train Loss: 0.5563 | Val Loss: 0.5541\n",
      "Epoch  5 | Train Loss: 0.5440 | Val Loss: 0.5495\n",
      "Epoch 10 | Train Loss: 0.5344 | Val Loss: 0.5459\n",
      "Epoch 15 | Train Loss: 0.5266 | Val Loss: 0.5443\n",
      "Epoch 20 | Train Loss: 0.5207 | Val Loss: 0.5462\n"
     ]
    }
   ],
   "source": [
    "\n",
    "# Train LSTM generator\n",
    "train_lstm_generator(lstm_generator, train_gen_data, val_gen_data, epochs=25, lr=1e-4)"
   ]
  },
  {
   "cell_type": "code",
   "execution_count": 59,
   "metadata": {},
   "outputs": [
    {
     "name": "stdout",
     "output_type": "stream",
     "text": [
      "Generating 5000 molecules in batches of 50...\n"
     ]
    },
    {
     "name": "stderr",
     "output_type": "stream",
     "text": [
      "Generating:   0%|          | 0/100 [00:00<?, ?it/s]"
     ]
    },
    {
     "name": "stderr",
     "output_type": "stream",
     "text": [
      "Generating: 100%|██████████| 100/100 [01:03<00:00,  1.57it/s]"
     ]
    },
    {
     "name": "stdout",
     "output_type": "stream",
     "text": [
      "Generated molecules: 5,000\n",
      "Valid molecules: 4,824\n",
      "Unique valid molecules: 4,728\n",
      "Novel molecules: 1,857\n",
      "METRICS:\n",
      "Validity: 96.48%\n",
      "Uniqueness: 98.01%\n",
      "Novelty: 39.28%\n",
      "EXAMPLE GENERATED MOLECULES:\n",
      " 1. C[C@H]1O[C@]23C=C(C[C@H]12)C3\n",
      " 2. OCC#CC#CC1CC1\n",
      " 3. C[C@H]1[C@H]2C[C@@H](C#N)[C@]21C\n",
      " 4. C[C@]12C[N@H+]1C[C@@]21CCO1\n",
      " 5. CC(C)[C@@]1(C)CNC1=O\n",
      " 6. C#CC1=C[C@@]2(C)C[C@H]2C1\n",
      " 7. CCC[C@@](C)(O)CC#N\n",
      " 8. CO[C@@](C)(C#N)[C@@H](C)N\n",
      " 9. CC[C@H]1C(=O)CN1C=O\n",
      "10. C#CC(=O)[C@@H](C)NC=O\n"
     ]
    },
    {
     "name": "stderr",
     "output_type": "stream",
     "text": [
      "\n"
     ]
    }
   ],
   "source": [
    "# Comprehensive generation and evaluation\n",
    "def generate_and_evaluate(model, num_molecules=5000, batch_size=100):\n",
    "    \"\"\"Generate molecules and evaluate validity, uniqueness, and novelty.\"\"\"\n",
    "    # Load best model\n",
    "    model.load_state_dict(torch.load('models/lstm_generator_best.pth', map_location=device)) \n",
    "    model.eval()\n",
    "    \n",
    "    generated_smiles = []\n",
    "    valid_smiles = []\n",
    "    unique_smiles = set()\n",
    "    novel_smiles = set()\n",
    "    \n",
    "    print(f\"Generating {num_molecules} molecules in batches of {batch_size}...\")\n",
    "    \n",
    "    # Generate in batches\n",
    "    num_batches = (num_molecules + batch_size - 1) // batch_size\n",
    "    \n",
    "    for batch_idx in tqdm(range(num_batches), desc=\"Generating\"):\n",
    "        batch_size_current = min(batch_size, num_molecules - batch_idx * batch_size)\n",
    "        \n",
    "        try:\n",
    "            # Generate using LSTM\n",
    "            batch_molecules = []\n",
    "            for _ in range(batch_size_current):\n",
    "                # Try different temperatures for diversity\n",
    "                temp = np.random.uniform(0.6, 1.2)\n",
    "                smiles = model.generate_smiles(max_length=80, temperature=temp)\n",
    "                batch_molecules.append(smiles)\n",
    "\n",
    "            \n",
    "            # Process batch\n",
    "            for smiles in batch_molecules:\n",
    "                if smiles and len(smiles.strip()) > 0:\n",
    "                    generated_smiles.append(smiles)\n",
    "                    \n",
    "                    # Check validity\n",
    "                    if is_valid_smiles(smiles):\n",
    "                        canonical = canonicalize(smiles)\n",
    "                        if canonical:\n",
    "                            valid_smiles.append(canonical)\n",
    "                            unique_smiles.add(canonical)\n",
    "                            \n",
    "                            # Check novelty\n",
    "                            if canonical not in training_smiles_set:\n",
    "                                novel_smiles.add(canonical)\n",
    "                                \n",
    "        except Exception as e:\n",
    "            print(f\"Error in batch {batch_idx}: {e}\")\n",
    "            continue\n",
    "    \n",
    "    # Calculate metrics\n",
    "    num_generated = len(generated_smiles)\n",
    "    num_valid = len(valid_smiles)\n",
    "    num_unique = len(unique_smiles)\n",
    "    num_novel = len(novel_smiles)\n",
    "    \n",
    "    validity = (num_valid / num_generated * 100) if num_generated > 0 else 0\n",
    "    uniqueness = (num_unique / num_valid * 100) if num_valid > 0 else 0\n",
    "    novelty = (num_novel / num_unique * 100) if num_unique > 0 else 0\n",
    "\n",
    "    print(f\"Generated molecules: {num_generated:,}\")\n",
    "    print(f\"Valid molecules: {num_valid:,}\")\n",
    "    print(f\"Unique valid molecules: {num_unique:,}\")\n",
    "    print(f\"Novel molecules: {num_novel:,}\")\n",
    "    print(f\"METRICS:\")\n",
    "    print(f\"Validity: {validity:.2f}%\")\n",
    "    print(f\"Uniqueness: {uniqueness:.2f}%\")\n",
    "    print(f\"Novelty: {novelty:.2f}%\")\n",
    "    \n",
    "    # Show some examples\n",
    "    print(f\"EXAMPLE GENERATED MOLECULES:\")\n",
    "    example_molecules = list(unique_smiles)[:10]\n",
    "    for i, smiles in enumerate(example_molecules):\n",
    "        print(f\"{i+1:2d}. {smiles}\")\n",
    "    \n",
    "    return {\n",
    "        'generated': num_generated,\n",
    "        'valid': num_valid,\n",
    "        'unique': num_unique,\n",
    "        'novel': num_novel,\n",
    "        'validity': validity,\n",
    "        'uniqueness': uniqueness,\n",
    "        'novelty': novelty,\n",
    "        'valid_smiles': valid_smiles,\n",
    "        'unique_smiles': list(unique_smiles),\n",
    "        'novel_smiles': list(novel_smiles)\n",
    "    }\n",
    "\n",
    "# Generate and evaluate with both models\n",
    "lstm_results = generate_and_evaluate(lstm_generator, num_molecules=5000, batch_size=50)\n"
   ]
  }
 ],
 "metadata": {
  "colab": {
   "provenance": []
  },
  "kernelspec": {
   "display_name": ".venv",
   "language": "python",
   "name": "python3"
  },
  "language_info": {
   "codemirror_mode": {
    "name": "ipython",
    "version": 3
   },
   "file_extension": ".py",
   "mimetype": "text/x-python",
   "name": "python",
   "nbconvert_exporter": "python",
   "pygments_lexer": "ipython3",
   "version": "3.10.0"
  },
  "widgets": {
   "application/vnd.jupyter.widget-state+json": {
    "001a9bf676f84c6683d1fa33ee861c77": {
     "model_module": "@jupyter-widgets/controls",
     "model_module_version": "1.5.0",
     "model_name": "HBoxModel",
     "state": {
      "_dom_classes": [],
      "_model_module": "@jupyter-widgets/controls",
      "_model_module_version": "1.5.0",
      "_model_name": "HBoxModel",
      "_view_count": null,
      "_view_module": "@jupyter-widgets/controls",
      "_view_module_version": "1.5.0",
      "_view_name": "HBoxView",
      "box_style": "",
      "children": [
       "IPY_MODEL_775c95daa699452ab9d60563e5087dee",
       "IPY_MODEL_897f329e08014cf8b582abecc6c3024b",
       "IPY_MODEL_ad0fea7bd02a4134a680cf26704ec5b3"
      ],
      "layout": "IPY_MODEL_b7e71ba4f4484cf08141279a5d8c0f42"
     }
    },
    "03a0602a8be4467faa6fed504b39229f": {
     "model_module": "@jupyter-widgets/controls",
     "model_module_version": "1.5.0",
     "model_name": "DescriptionStyleModel",
     "state": {
      "_model_module": "@jupyter-widgets/controls",
      "_model_module_version": "1.5.0",
      "_model_name": "DescriptionStyleModel",
      "_view_count": null,
      "_view_module": "@jupyter-widgets/base",
      "_view_module_version": "1.2.0",
      "_view_name": "StyleView",
      "description_width": ""
     }
    },
    "03d18e9518e74c7cb50b304b61303d30": {
     "model_module": "@jupyter-widgets/controls",
     "model_module_version": "1.5.0",
     "model_name": "ProgressStyleModel",
     "state": {
      "_model_module": "@jupyter-widgets/controls",
      "_model_module_version": "1.5.0",
      "_model_name": "ProgressStyleModel",
      "_view_count": null,
      "_view_module": "@jupyter-widgets/base",
      "_view_module_version": "1.2.0",
      "_view_name": "StyleView",
      "bar_color": null,
      "description_width": ""
     }
    },
    "045b8de4bd654daa8f959dfb1e3b30ad": {
     "model_module": "@jupyter-widgets/controls",
     "model_module_version": "1.5.0",
     "model_name": "HTMLModel",
     "state": {
      "_dom_classes": [],
      "_model_module": "@jupyter-widgets/controls",
      "_model_module_version": "1.5.0",
      "_model_name": "HTMLModel",
      "_view_count": null,
      "_view_module": "@jupyter-widgets/controls",
      "_view_module_version": "1.5.0",
      "_view_name": "HTMLView",
      "description": "",
      "description_tooltip": null,
      "layout": "IPY_MODEL_38aaae2bb2d849bd9460de5849d7794d",
      "placeholder": "​",
      "style": "IPY_MODEL_4f92c1b545194432ab419eb6c4789845",
      "value": "Epoch 1/10:   0%"
     }
    },
    "0980da41eaf3471bb93951b6f51b536c": {
     "model_module": "@jupyter-widgets/controls",
     "model_module_version": "1.5.0",
     "model_name": "HTMLModel",
     "state": {
      "_dom_classes": [],
      "_model_module": "@jupyter-widgets/controls",
      "_model_module_version": "1.5.0",
      "_model_name": "HTMLModel",
      "_view_count": null,
      "_view_module": "@jupyter-widgets/controls",
      "_view_module_version": "1.5.0",
      "_view_name": "HTMLView",
      "description": "",
      "description_tooltip": null,
      "layout": "IPY_MODEL_c25e8a454ccf436388156297c44bb365",
      "placeholder": "​",
      "style": "IPY_MODEL_8875587aa3394657a419357564b361bf",
      "value": "Epoch 10/10:   0%"
     }
    },
    "0b6c2a7de62e448d89f70955a3041a57": {
     "model_module": "@jupyter-widgets/base",
     "model_module_version": "1.2.0",
     "model_name": "LayoutModel",
     "state": {
      "_model_module": "@jupyter-widgets/base",
      "_model_module_version": "1.2.0",
      "_model_name": "LayoutModel",
      "_view_count": null,
      "_view_module": "@jupyter-widgets/base",
      "_view_module_version": "1.2.0",
      "_view_name": "LayoutView",
      "align_content": null,
      "align_items": null,
      "align_self": null,
      "border": null,
      "bottom": null,
      "display": null,
      "flex": null,
      "flex_flow": null,
      "grid_area": null,
      "grid_auto_columns": null,
      "grid_auto_flow": null,
      "grid_auto_rows": null,
      "grid_column": null,
      "grid_gap": null,
      "grid_row": null,
      "grid_template_areas": null,
      "grid_template_columns": null,
      "grid_template_rows": null,
      "height": null,
      "justify_content": null,
      "justify_items": null,
      "left": null,
      "margin": null,
      "max_height": null,
      "max_width": null,
      "min_height": null,
      "min_width": null,
      "object_fit": null,
      "object_position": null,
      "order": null,
      "overflow": null,
      "overflow_x": null,
      "overflow_y": null,
      "padding": null,
      "right": null,
      "top": null,
      "visibility": null,
      "width": null
     }
    },
    "0e89784056eb442ea7768c0cea372265": {
     "model_module": "@jupyter-widgets/controls",
     "model_module_version": "1.5.0",
     "model_name": "DescriptionStyleModel",
     "state": {
      "_model_module": "@jupyter-widgets/controls",
      "_model_module_version": "1.5.0",
      "_model_name": "DescriptionStyleModel",
      "_view_count": null,
      "_view_module": "@jupyter-widgets/base",
      "_view_module_version": "1.2.0",
      "_view_name": "StyleView",
      "description_width": ""
     }
    },
    "0f8c4dccb4f84e368d0c41121788cdb0": {
     "model_module": "@jupyter-widgets/controls",
     "model_module_version": "1.5.0",
     "model_name": "DescriptionStyleModel",
     "state": {
      "_model_module": "@jupyter-widgets/controls",
      "_model_module_version": "1.5.0",
      "_model_name": "DescriptionStyleModel",
      "_view_count": null,
      "_view_module": "@jupyter-widgets/base",
      "_view_module_version": "1.2.0",
      "_view_name": "StyleView",
      "description_width": ""
     }
    },
    "1001e89424ac4152a659fcde3ee5d73f": {
     "model_module": "@jupyter-widgets/controls",
     "model_module_version": "1.5.0",
     "model_name": "HTMLModel",
     "state": {
      "_dom_classes": [],
      "_model_module": "@jupyter-widgets/controls",
      "_model_module_version": "1.5.0",
      "_model_name": "HTMLModel",
      "_view_count": null,
      "_view_module": "@jupyter-widgets/controls",
      "_view_module_version": "1.5.0",
      "_view_name": "HTMLView",
      "description": "",
      "description_tooltip": null,
      "layout": "IPY_MODEL_e0628044c1fe448d9980e7ee6008704f",
      "placeholder": "​",
      "style": "IPY_MODEL_5beb79d1e2ef434c838c9e3e3d25d5e6",
      "value": " 0/837 [59:46&lt;?, ?it/s, train_loss=0.00835]"
     }
    },
    "12c35963985a4df291c85fc080689200": {
     "model_module": "@jupyter-widgets/controls",
     "model_module_version": "1.5.0",
     "model_name": "ProgressStyleModel",
     "state": {
      "_model_module": "@jupyter-widgets/controls",
      "_model_module_version": "1.5.0",
      "_model_name": "ProgressStyleModel",
      "_view_count": null,
      "_view_module": "@jupyter-widgets/base",
      "_view_module_version": "1.2.0",
      "_view_name": "StyleView",
      "bar_color": null,
      "description_width": ""
     }
    },
    "14125e3f2eb64669b7f0d78d69fb234e": {
     "model_module": "@jupyter-widgets/controls",
     "model_module_version": "1.5.0",
     "model_name": "DescriptionStyleModel",
     "state": {
      "_model_module": "@jupyter-widgets/controls",
      "_model_module_version": "1.5.0",
      "_model_name": "DescriptionStyleModel",
      "_view_count": null,
      "_view_module": "@jupyter-widgets/base",
      "_view_module_version": "1.2.0",
      "_view_name": "StyleView",
      "description_width": ""
     }
    },
    "1484f76441764201b2780641fd70e0ea": {
     "model_module": "@jupyter-widgets/controls",
     "model_module_version": "1.5.0",
     "model_name": "DescriptionStyleModel",
     "state": {
      "_model_module": "@jupyter-widgets/controls",
      "_model_module_version": "1.5.0",
      "_model_name": "DescriptionStyleModel",
      "_view_count": null,
      "_view_module": "@jupyter-widgets/base",
      "_view_module_version": "1.2.0",
      "_view_name": "StyleView",
      "description_width": ""
     }
    },
    "16aee7ac89dd4170bcb0182655b792af": {
     "model_module": "@jupyter-widgets/controls",
     "model_module_version": "1.5.0",
     "model_name": "FloatProgressModel",
     "state": {
      "_dom_classes": [],
      "_model_module": "@jupyter-widgets/controls",
      "_model_module_version": "1.5.0",
      "_model_name": "FloatProgressModel",
      "_view_count": null,
      "_view_module": "@jupyter-widgets/controls",
      "_view_module_version": "1.5.0",
      "_view_name": "ProgressView",
      "bar_style": "danger",
      "description": "",
      "description_tooltip": null,
      "layout": "IPY_MODEL_eb6fd13896a04a01b7803d6bb1e17ca9",
      "max": 837,
      "min": 0,
      "orientation": "horizontal",
      "style": "IPY_MODEL_03d18e9518e74c7cb50b304b61303d30",
      "value": 0
     }
    },
    "1c53fe1e77ec4a88acd0284252e9da2e": {
     "model_module": "@jupyter-widgets/base",
     "model_module_version": "1.2.0",
     "model_name": "LayoutModel",
     "state": {
      "_model_module": "@jupyter-widgets/base",
      "_model_module_version": "1.2.0",
      "_model_name": "LayoutModel",
      "_view_count": null,
      "_view_module": "@jupyter-widgets/base",
      "_view_module_version": "1.2.0",
      "_view_name": "LayoutView",
      "align_content": null,
      "align_items": null,
      "align_self": null,
      "border": null,
      "bottom": null,
      "display": null,
      "flex": null,
      "flex_flow": null,
      "grid_area": null,
      "grid_auto_columns": null,
      "grid_auto_flow": null,
      "grid_auto_rows": null,
      "grid_column": null,
      "grid_gap": null,
      "grid_row": null,
      "grid_template_areas": null,
      "grid_template_columns": null,
      "grid_template_rows": null,
      "height": null,
      "justify_content": null,
      "justify_items": null,
      "left": null,
      "margin": null,
      "max_height": null,
      "max_width": null,
      "min_height": null,
      "min_width": null,
      "object_fit": null,
      "object_position": null,
      "order": null,
      "overflow": null,
      "overflow_x": null,
      "overflow_y": null,
      "padding": null,
      "right": null,
      "top": null,
      "visibility": null,
      "width": null
     }
    },
    "21293d6b696a47d7b795aa1837701fc7": {
     "model_module": "@jupyter-widgets/controls",
     "model_module_version": "1.5.0",
     "model_name": "FloatProgressModel",
     "state": {
      "_dom_classes": [],
      "_model_module": "@jupyter-widgets/controls",
      "_model_module_version": "1.5.0",
      "_model_name": "FloatProgressModel",
      "_view_count": null,
      "_view_module": "@jupyter-widgets/controls",
      "_view_module_version": "1.5.0",
      "_view_name": "ProgressView",
      "bar_style": "danger",
      "description": "",
      "description_tooltip": null,
      "layout": "IPY_MODEL_7c29cb6e381046e7bc8933b92fdc9a84",
      "max": 837,
      "min": 0,
      "orientation": "horizontal",
      "style": "IPY_MODEL_5e3bcf38ea7f4c5f92adf7fe015f65b2",
      "value": 0
     }
    },
    "21423d3a38bc4de691b6f158a7c85385": {
     "model_module": "@jupyter-widgets/base",
     "model_module_version": "1.2.0",
     "model_name": "LayoutModel",
     "state": {
      "_model_module": "@jupyter-widgets/base",
      "_model_module_version": "1.2.0",
      "_model_name": "LayoutModel",
      "_view_count": null,
      "_view_module": "@jupyter-widgets/base",
      "_view_module_version": "1.2.0",
      "_view_name": "LayoutView",
      "align_content": null,
      "align_items": null,
      "align_self": null,
      "border": null,
      "bottom": null,
      "display": null,
      "flex": null,
      "flex_flow": null,
      "grid_area": null,
      "grid_auto_columns": null,
      "grid_auto_flow": null,
      "grid_auto_rows": null,
      "grid_column": null,
      "grid_gap": null,
      "grid_row": null,
      "grid_template_areas": null,
      "grid_template_columns": null,
      "grid_template_rows": null,
      "height": null,
      "justify_content": null,
      "justify_items": null,
      "left": null,
      "margin": null,
      "max_height": null,
      "max_width": null,
      "min_height": null,
      "min_width": null,
      "object_fit": null,
      "object_position": null,
      "order": null,
      "overflow": null,
      "overflow_x": null,
      "overflow_y": null,
      "padding": null,
      "right": null,
      "top": null,
      "visibility": null,
      "width": null
     }
    },
    "25613cf96a62492aa961c64242faf59c": {
     "model_module": "@jupyter-widgets/controls",
     "model_module_version": "1.5.0",
     "model_name": "HBoxModel",
     "state": {
      "_dom_classes": [],
      "_model_module": "@jupyter-widgets/controls",
      "_model_module_version": "1.5.0",
      "_model_name": "HBoxModel",
      "_view_count": null,
      "_view_module": "@jupyter-widgets/controls",
      "_view_module_version": "1.5.0",
      "_view_name": "HBoxView",
      "box_style": "",
      "children": [
       "IPY_MODEL_f5d83b4bd297420ea4e53b0a8ff28a26",
       "IPY_MODEL_85f0e0b107fa4a11bcfffd86fd773fd8",
       "IPY_MODEL_5afa4fee4deb4171a5613db2189f6a7f"
      ],
      "layout": "IPY_MODEL_51e62c6135fe43b79500503eef36cde4"
     }
    },
    "2d4a0e9839e14daf88014802faeae63d": {
     "model_module": "@jupyter-widgets/controls",
     "model_module_version": "1.5.0",
     "model_name": "DescriptionStyleModel",
     "state": {
      "_model_module": "@jupyter-widgets/controls",
      "_model_module_version": "1.5.0",
      "_model_name": "DescriptionStyleModel",
      "_view_count": null,
      "_view_module": "@jupyter-widgets/base",
      "_view_module_version": "1.2.0",
      "_view_name": "StyleView",
      "description_width": ""
     }
    },
    "344dc8d6b1c246c1bc12ec0d83843488": {
     "model_module": "@jupyter-widgets/base",
     "model_module_version": "1.2.0",
     "model_name": "LayoutModel",
     "state": {
      "_model_module": "@jupyter-widgets/base",
      "_model_module_version": "1.2.0",
      "_model_name": "LayoutModel",
      "_view_count": null,
      "_view_module": "@jupyter-widgets/base",
      "_view_module_version": "1.2.0",
      "_view_name": "LayoutView",
      "align_content": null,
      "align_items": null,
      "align_self": null,
      "border": null,
      "bottom": null,
      "display": null,
      "flex": null,
      "flex_flow": null,
      "grid_area": null,
      "grid_auto_columns": null,
      "grid_auto_flow": null,
      "grid_auto_rows": null,
      "grid_column": null,
      "grid_gap": null,
      "grid_row": null,
      "grid_template_areas": null,
      "grid_template_columns": null,
      "grid_template_rows": null,
      "height": null,
      "justify_content": null,
      "justify_items": null,
      "left": null,
      "margin": null,
      "max_height": null,
      "max_width": null,
      "min_height": null,
      "min_width": null,
      "object_fit": null,
      "object_position": null,
      "order": null,
      "overflow": null,
      "overflow_x": null,
      "overflow_y": null,
      "padding": null,
      "right": null,
      "top": null,
      "visibility": null,
      "width": null
     }
    },
    "356fa43cb3504b6fa296fed190cf8d1c": {
     "model_module": "@jupyter-widgets/controls",
     "model_module_version": "1.5.0",
     "model_name": "FloatProgressModel",
     "state": {
      "_dom_classes": [],
      "_model_module": "@jupyter-widgets/controls",
      "_model_module_version": "1.5.0",
      "_model_name": "FloatProgressModel",
      "_view_count": null,
      "_view_module": "@jupyter-widgets/controls",
      "_view_module_version": "1.5.0",
      "_view_name": "ProgressView",
      "bar_style": "danger",
      "description": "",
      "description_tooltip": null,
      "layout": "IPY_MODEL_eb53b12f4c114ebd9a51d9089d19e4b3",
      "max": 837,
      "min": 0,
      "orientation": "horizontal",
      "style": "IPY_MODEL_bbca1706124444cf997be12b118dd899",
      "value": 0
     }
    },
    "38aaae2bb2d849bd9460de5849d7794d": {
     "model_module": "@jupyter-widgets/base",
     "model_module_version": "1.2.0",
     "model_name": "LayoutModel",
     "state": {
      "_model_module": "@jupyter-widgets/base",
      "_model_module_version": "1.2.0",
      "_model_name": "LayoutModel",
      "_view_count": null,
      "_view_module": "@jupyter-widgets/base",
      "_view_module_version": "1.2.0",
      "_view_name": "LayoutView",
      "align_content": null,
      "align_items": null,
      "align_self": null,
      "border": null,
      "bottom": null,
      "display": null,
      "flex": null,
      "flex_flow": null,
      "grid_area": null,
      "grid_auto_columns": null,
      "grid_auto_flow": null,
      "grid_auto_rows": null,
      "grid_column": null,
      "grid_gap": null,
      "grid_row": null,
      "grid_template_areas": null,
      "grid_template_columns": null,
      "grid_template_rows": null,
      "height": null,
      "justify_content": null,
      "justify_items": null,
      "left": null,
      "margin": null,
      "max_height": null,
      "max_width": null,
      "min_height": null,
      "min_width": null,
      "object_fit": null,
      "object_position": null,
      "order": null,
      "overflow": null,
      "overflow_x": null,
      "overflow_y": null,
      "padding": null,
      "right": null,
      "top": null,
      "visibility": null,
      "width": null
     }
    },
    "3905c301d72f4e07a8c2b62e31564194": {
     "model_module": "@jupyter-widgets/controls",
     "model_module_version": "1.5.0",
     "model_name": "HTMLModel",
     "state": {
      "_dom_classes": [],
      "_model_module": "@jupyter-widgets/controls",
      "_model_module_version": "1.5.0",
      "_model_name": "HTMLModel",
      "_view_count": null,
      "_view_module": "@jupyter-widgets/controls",
      "_view_module_version": "1.5.0",
      "_view_name": "HTMLView",
      "description": "",
      "description_tooltip": null,
      "layout": "IPY_MODEL_c21f83b90c684066bd702a21e93c8978",
      "placeholder": "​",
      "style": "IPY_MODEL_f55a9f42ff964510bc253d633eaaaa53",
      "value": " 0/837 [1:14:46&lt;?, ?it/s, train_loss=1.15]"
     }
    },
    "3972685cc5424dd28ac6f070b0c7b96a": {
     "model_module": "@jupyter-widgets/base",
     "model_module_version": "1.2.0",
     "model_name": "LayoutModel",
     "state": {
      "_model_module": "@jupyter-widgets/base",
      "_model_module_version": "1.2.0",
      "_model_name": "LayoutModel",
      "_view_count": null,
      "_view_module": "@jupyter-widgets/base",
      "_view_module_version": "1.2.0",
      "_view_name": "LayoutView",
      "align_content": null,
      "align_items": null,
      "align_self": null,
      "border": null,
      "bottom": null,
      "display": null,
      "flex": null,
      "flex_flow": null,
      "grid_area": null,
      "grid_auto_columns": null,
      "grid_auto_flow": null,
      "grid_auto_rows": null,
      "grid_column": null,
      "grid_gap": null,
      "grid_row": null,
      "grid_template_areas": null,
      "grid_template_columns": null,
      "grid_template_rows": null,
      "height": null,
      "justify_content": null,
      "justify_items": null,
      "left": null,
      "margin": null,
      "max_height": null,
      "max_width": null,
      "min_height": null,
      "min_width": null,
      "object_fit": null,
      "object_position": null,
      "order": null,
      "overflow": null,
      "overflow_x": null,
      "overflow_y": null,
      "padding": null,
      "right": null,
      "top": null,
      "visibility": null,
      "width": null
     }
    },
    "39dad53eb912499197ebed061700077b": {
     "model_module": "@jupyter-widgets/base",
     "model_module_version": "1.2.0",
     "model_name": "LayoutModel",
     "state": {
      "_model_module": "@jupyter-widgets/base",
      "_model_module_version": "1.2.0",
      "_model_name": "LayoutModel",
      "_view_count": null,
      "_view_module": "@jupyter-widgets/base",
      "_view_module_version": "1.2.0",
      "_view_name": "LayoutView",
      "align_content": null,
      "align_items": null,
      "align_self": null,
      "border": null,
      "bottom": null,
      "display": null,
      "flex": null,
      "flex_flow": null,
      "grid_area": null,
      "grid_auto_columns": null,
      "grid_auto_flow": null,
      "grid_auto_rows": null,
      "grid_column": null,
      "grid_gap": null,
      "grid_row": null,
      "grid_template_areas": null,
      "grid_template_columns": null,
      "grid_template_rows": null,
      "height": null,
      "justify_content": null,
      "justify_items": null,
      "left": null,
      "margin": null,
      "max_height": null,
      "max_width": null,
      "min_height": null,
      "min_width": null,
      "object_fit": null,
      "object_position": null,
      "order": null,
      "overflow": null,
      "overflow_x": null,
      "overflow_y": null,
      "padding": null,
      "right": null,
      "top": null,
      "visibility": null,
      "width": null
     }
    },
    "3b06360a6b16412fa7db940cb52243a5": {
     "model_module": "@jupyter-widgets/controls",
     "model_module_version": "1.5.0",
     "model_name": "DescriptionStyleModel",
     "state": {
      "_model_module": "@jupyter-widgets/controls",
      "_model_module_version": "1.5.0",
      "_model_name": "DescriptionStyleModel",
      "_view_count": null,
      "_view_module": "@jupyter-widgets/base",
      "_view_module_version": "1.2.0",
      "_view_name": "StyleView",
      "description_width": ""
     }
    },
    "3ca3b99ae6eb40f0b085cbc323262c2c": {
     "model_module": "@jupyter-widgets/base",
     "model_module_version": "1.2.0",
     "model_name": "LayoutModel",
     "state": {
      "_model_module": "@jupyter-widgets/base",
      "_model_module_version": "1.2.0",
      "_model_name": "LayoutModel",
      "_view_count": null,
      "_view_module": "@jupyter-widgets/base",
      "_view_module_version": "1.2.0",
      "_view_name": "LayoutView",
      "align_content": null,
      "align_items": null,
      "align_self": null,
      "border": null,
      "bottom": null,
      "display": null,
      "flex": null,
      "flex_flow": null,
      "grid_area": null,
      "grid_auto_columns": null,
      "grid_auto_flow": null,
      "grid_auto_rows": null,
      "grid_column": null,
      "grid_gap": null,
      "grid_row": null,
      "grid_template_areas": null,
      "grid_template_columns": null,
      "grid_template_rows": null,
      "height": null,
      "justify_content": null,
      "justify_items": null,
      "left": null,
      "margin": null,
      "max_height": null,
      "max_width": null,
      "min_height": null,
      "min_width": null,
      "object_fit": null,
      "object_position": null,
      "order": null,
      "overflow": null,
      "overflow_x": null,
      "overflow_y": null,
      "padding": null,
      "right": null,
      "top": null,
      "visibility": null,
      "width": null
     }
    },
    "40304828ba6e4efca4bd662ab451bbec": {
     "model_module": "@jupyter-widgets/base",
     "model_module_version": "1.2.0",
     "model_name": "LayoutModel",
     "state": {
      "_model_module": "@jupyter-widgets/base",
      "_model_module_version": "1.2.0",
      "_model_name": "LayoutModel",
      "_view_count": null,
      "_view_module": "@jupyter-widgets/base",
      "_view_module_version": "1.2.0",
      "_view_name": "LayoutView",
      "align_content": null,
      "align_items": null,
      "align_self": null,
      "border": null,
      "bottom": null,
      "display": null,
      "flex": null,
      "flex_flow": null,
      "grid_area": null,
      "grid_auto_columns": null,
      "grid_auto_flow": null,
      "grid_auto_rows": null,
      "grid_column": null,
      "grid_gap": null,
      "grid_row": null,
      "grid_template_areas": null,
      "grid_template_columns": null,
      "grid_template_rows": null,
      "height": null,
      "justify_content": null,
      "justify_items": null,
      "left": null,
      "margin": null,
      "max_height": null,
      "max_width": null,
      "min_height": null,
      "min_width": null,
      "object_fit": null,
      "object_position": null,
      "order": null,
      "overflow": null,
      "overflow_x": null,
      "overflow_y": null,
      "padding": null,
      "right": null,
      "top": null,
      "visibility": null,
      "width": null
     }
    },
    "405cef14c0fc4b019d0557ec5ed42f30": {
     "model_module": "@jupyter-widgets/controls",
     "model_module_version": "1.5.0",
     "model_name": "HBoxModel",
     "state": {
      "_dom_classes": [],
      "_model_module": "@jupyter-widgets/controls",
      "_model_module_version": "1.5.0",
      "_model_name": "HBoxModel",
      "_view_count": null,
      "_view_module": "@jupyter-widgets/controls",
      "_view_module_version": "1.5.0",
      "_view_name": "HBoxView",
      "box_style": "",
      "children": [
       "IPY_MODEL_045b8de4bd654daa8f959dfb1e3b30ad",
       "IPY_MODEL_57503d9afd074ba79fb4f0c42d4e40b6",
       "IPY_MODEL_3905c301d72f4e07a8c2b62e31564194"
      ],
      "layout": "IPY_MODEL_3ca3b99ae6eb40f0b085cbc323262c2c"
     }
    },
    "4851999bbbfc4676a5a93e57834778a1": {
     "model_module": "@jupyter-widgets/controls",
     "model_module_version": "1.5.0",
     "model_name": "HTMLModel",
     "state": {
      "_dom_classes": [],
      "_model_module": "@jupyter-widgets/controls",
      "_model_module_version": "1.5.0",
      "_model_name": "HTMLModel",
      "_view_count": null,
      "_view_module": "@jupyter-widgets/controls",
      "_view_module_version": "1.5.0",
      "_view_name": "HTMLView",
      "description": "",
      "description_tooltip": null,
      "layout": "IPY_MODEL_0b6c2a7de62e448d89f70955a3041a57",
      "placeholder": "​",
      "style": "IPY_MODEL_1484f76441764201b2780641fd70e0ea",
      "value": "Epoch 9/10:   0%"
     }
    },
    "4c13e771a95e4305a202a3d95a3357ca": {
     "model_module": "@jupyter-widgets/controls",
     "model_module_version": "1.5.0",
     "model_name": "HTMLModel",
     "state": {
      "_dom_classes": [],
      "_model_module": "@jupyter-widgets/controls",
      "_model_module_version": "1.5.0",
      "_model_name": "HTMLModel",
      "_view_count": null,
      "_view_module": "@jupyter-widgets/controls",
      "_view_module_version": "1.5.0",
      "_view_name": "HTMLView",
      "description": "",
      "description_tooltip": null,
      "layout": "IPY_MODEL_f1ce29030f404443b18a93823e916079",
      "placeholder": "​",
      "style": "IPY_MODEL_0f8c4dccb4f84e368d0c41121788cdb0",
      "value": " 0/837 [52:12&lt;?, ?it/s, train_loss=0.0107]"
     }
    },
    "4f92c1b545194432ab419eb6c4789845": {
     "model_module": "@jupyter-widgets/controls",
     "model_module_version": "1.5.0",
     "model_name": "DescriptionStyleModel",
     "state": {
      "_model_module": "@jupyter-widgets/controls",
      "_model_module_version": "1.5.0",
      "_model_name": "DescriptionStyleModel",
      "_view_count": null,
      "_view_module": "@jupyter-widgets/base",
      "_view_module_version": "1.2.0",
      "_view_name": "StyleView",
      "description_width": ""
     }
    },
    "51e62c6135fe43b79500503eef36cde4": {
     "model_module": "@jupyter-widgets/base",
     "model_module_version": "1.2.0",
     "model_name": "LayoutModel",
     "state": {
      "_model_module": "@jupyter-widgets/base",
      "_model_module_version": "1.2.0",
      "_model_name": "LayoutModel",
      "_view_count": null,
      "_view_module": "@jupyter-widgets/base",
      "_view_module_version": "1.2.0",
      "_view_name": "LayoutView",
      "align_content": null,
      "align_items": null,
      "align_self": null,
      "border": null,
      "bottom": null,
      "display": null,
      "flex": null,
      "flex_flow": null,
      "grid_area": null,
      "grid_auto_columns": null,
      "grid_auto_flow": null,
      "grid_auto_rows": null,
      "grid_column": null,
      "grid_gap": null,
      "grid_row": null,
      "grid_template_areas": null,
      "grid_template_columns": null,
      "grid_template_rows": null,
      "height": null,
      "justify_content": null,
      "justify_items": null,
      "left": null,
      "margin": null,
      "max_height": null,
      "max_width": null,
      "min_height": null,
      "min_width": null,
      "object_fit": null,
      "object_position": null,
      "order": null,
      "overflow": null,
      "overflow_x": null,
      "overflow_y": null,
      "padding": null,
      "right": null,
      "top": null,
      "visibility": null,
      "width": null
     }
    },
    "54915624a21a43768c543db5c0fa08dd": {
     "model_module": "@jupyter-widgets/base",
     "model_module_version": "1.2.0",
     "model_name": "LayoutModel",
     "state": {
      "_model_module": "@jupyter-widgets/base",
      "_model_module_version": "1.2.0",
      "_model_name": "LayoutModel",
      "_view_count": null,
      "_view_module": "@jupyter-widgets/base",
      "_view_module_version": "1.2.0",
      "_view_name": "LayoutView",
      "align_content": null,
      "align_items": null,
      "align_self": null,
      "border": null,
      "bottom": null,
      "display": null,
      "flex": null,
      "flex_flow": null,
      "grid_area": null,
      "grid_auto_columns": null,
      "grid_auto_flow": null,
      "grid_auto_rows": null,
      "grid_column": null,
      "grid_gap": null,
      "grid_row": null,
      "grid_template_areas": null,
      "grid_template_columns": null,
      "grid_template_rows": null,
      "height": null,
      "justify_content": null,
      "justify_items": null,
      "left": null,
      "margin": null,
      "max_height": null,
      "max_width": null,
      "min_height": null,
      "min_width": null,
      "object_fit": null,
      "object_position": null,
      "order": null,
      "overflow": null,
      "overflow_x": null,
      "overflow_y": null,
      "padding": null,
      "right": null,
      "top": null,
      "visibility": null,
      "width": null
     }
    },
    "57503d9afd074ba79fb4f0c42d4e40b6": {
     "model_module": "@jupyter-widgets/controls",
     "model_module_version": "1.5.0",
     "model_name": "FloatProgressModel",
     "state": {
      "_dom_classes": [],
      "_model_module": "@jupyter-widgets/controls",
      "_model_module_version": "1.5.0",
      "_model_name": "FloatProgressModel",
      "_view_count": null,
      "_view_module": "@jupyter-widgets/controls",
      "_view_module_version": "1.5.0",
      "_view_name": "ProgressView",
      "bar_style": "danger",
      "description": "",
      "description_tooltip": null,
      "layout": "IPY_MODEL_6caa631f528c4302bdf008fd6351edab",
      "max": 837,
      "min": 0,
      "orientation": "horizontal",
      "style": "IPY_MODEL_db50788261694e1287f77efda7c7f69d",
      "value": 0
     }
    },
    "592053916b854691ba7a854ece8de538": {
     "model_module": "@jupyter-widgets/controls",
     "model_module_version": "1.5.0",
     "model_name": "ProgressStyleModel",
     "state": {
      "_model_module": "@jupyter-widgets/controls",
      "_model_module_version": "1.5.0",
      "_model_name": "ProgressStyleModel",
      "_view_count": null,
      "_view_module": "@jupyter-widgets/base",
      "_view_module_version": "1.2.0",
      "_view_name": "StyleView",
      "bar_color": null,
      "description_width": ""
     }
    },
    "59d891a093064997916f64047393742c": {
     "model_module": "@jupyter-widgets/base",
     "model_module_version": "1.2.0",
     "model_name": "LayoutModel",
     "state": {
      "_model_module": "@jupyter-widgets/base",
      "_model_module_version": "1.2.0",
      "_model_name": "LayoutModel",
      "_view_count": null,
      "_view_module": "@jupyter-widgets/base",
      "_view_module_version": "1.2.0",
      "_view_name": "LayoutView",
      "align_content": null,
      "align_items": null,
      "align_self": null,
      "border": null,
      "bottom": null,
      "display": null,
      "flex": null,
      "flex_flow": null,
      "grid_area": null,
      "grid_auto_columns": null,
      "grid_auto_flow": null,
      "grid_auto_rows": null,
      "grid_column": null,
      "grid_gap": null,
      "grid_row": null,
      "grid_template_areas": null,
      "grid_template_columns": null,
      "grid_template_rows": null,
      "height": null,
      "justify_content": null,
      "justify_items": null,
      "left": null,
      "margin": null,
      "max_height": null,
      "max_width": null,
      "min_height": null,
      "min_width": null,
      "object_fit": null,
      "object_position": null,
      "order": null,
      "overflow": null,
      "overflow_x": null,
      "overflow_y": null,
      "padding": null,
      "right": null,
      "top": null,
      "visibility": null,
      "width": null
     }
    },
    "5afa4fee4deb4171a5613db2189f6a7f": {
     "model_module": "@jupyter-widgets/controls",
     "model_module_version": "1.5.0",
     "model_name": "HTMLModel",
     "state": {
      "_dom_classes": [],
      "_model_module": "@jupyter-widgets/controls",
      "_model_module_version": "1.5.0",
      "_model_name": "HTMLModel",
      "_view_count": null,
      "_view_module": "@jupyter-widgets/controls",
      "_view_module_version": "1.5.0",
      "_view_name": "HTMLView",
      "description": "",
      "description_tooltip": null,
      "layout": "IPY_MODEL_b33741c9be5846aa8252096af76168cd",
      "placeholder": "​",
      "style": "IPY_MODEL_03a0602a8be4467faa6fed504b39229f",
      "value": " 0/837 [1:07:21&lt;?, ?it/s, train_loss=0.00754]"
     }
    },
    "5beb79d1e2ef434c838c9e3e3d25d5e6": {
     "model_module": "@jupyter-widgets/controls",
     "model_module_version": "1.5.0",
     "model_name": "DescriptionStyleModel",
     "state": {
      "_model_module": "@jupyter-widgets/controls",
      "_model_module_version": "1.5.0",
      "_model_name": "DescriptionStyleModel",
      "_view_count": null,
      "_view_module": "@jupyter-widgets/base",
      "_view_module_version": "1.2.0",
      "_view_name": "StyleView",
      "description_width": ""
     }
    },
    "5e3bcf38ea7f4c5f92adf7fe015f65b2": {
     "model_module": "@jupyter-widgets/controls",
     "model_module_version": "1.5.0",
     "model_name": "ProgressStyleModel",
     "state": {
      "_model_module": "@jupyter-widgets/controls",
      "_model_module_version": "1.5.0",
      "_model_name": "ProgressStyleModel",
      "_view_count": null,
      "_view_module": "@jupyter-widgets/base",
      "_view_module_version": "1.2.0",
      "_view_name": "StyleView",
      "bar_color": null,
      "description_width": ""
     }
    },
    "5e7e19aa00c14c0796ecb3cf5ad6d8e9": {
     "model_module": "@jupyter-widgets/base",
     "model_module_version": "1.2.0",
     "model_name": "LayoutModel",
     "state": {
      "_model_module": "@jupyter-widgets/base",
      "_model_module_version": "1.2.0",
      "_model_name": "LayoutModel",
      "_view_count": null,
      "_view_module": "@jupyter-widgets/base",
      "_view_module_version": "1.2.0",
      "_view_name": "LayoutView",
      "align_content": null,
      "align_items": null,
      "align_self": null,
      "border": null,
      "bottom": null,
      "display": null,
      "flex": null,
      "flex_flow": null,
      "grid_area": null,
      "grid_auto_columns": null,
      "grid_auto_flow": null,
      "grid_auto_rows": null,
      "grid_column": null,
      "grid_gap": null,
      "grid_row": null,
      "grid_template_areas": null,
      "grid_template_columns": null,
      "grid_template_rows": null,
      "height": null,
      "justify_content": null,
      "justify_items": null,
      "left": null,
      "margin": null,
      "max_height": null,
      "max_width": null,
      "min_height": null,
      "min_width": null,
      "object_fit": null,
      "object_position": null,
      "order": null,
      "overflow": null,
      "overflow_x": null,
      "overflow_y": null,
      "padding": null,
      "right": null,
      "top": null,
      "visibility": null,
      "width": null
     }
    },
    "665fec1f98e842c7abe505dd2d97db95": {
     "model_module": "@jupyter-widgets/controls",
     "model_module_version": "1.5.0",
     "model_name": "HTMLModel",
     "state": {
      "_dom_classes": [],
      "_model_module": "@jupyter-widgets/controls",
      "_model_module_version": "1.5.0",
      "_model_name": "HTMLModel",
      "_view_count": null,
      "_view_module": "@jupyter-widgets/controls",
      "_view_module_version": "1.5.0",
      "_view_name": "HTMLView",
      "description": "",
      "description_tooltip": null,
      "layout": "IPY_MODEL_344dc8d6b1c246c1bc12ec0d83843488",
      "placeholder": "​",
      "style": "IPY_MODEL_978271540b1b4c85a6fe886d269b794f",
      "value": " 0/837 [37:19&lt;?, ?it/s, train_loss=0.00519]"
     }
    },
    "68318dada5ad4163b162e6563495af2f": {
     "model_module": "@jupyter-widgets/controls",
     "model_module_version": "1.5.0",
     "model_name": "DescriptionStyleModel",
     "state": {
      "_model_module": "@jupyter-widgets/controls",
      "_model_module_version": "1.5.0",
      "_model_name": "DescriptionStyleModel",
      "_view_count": null,
      "_view_module": "@jupyter-widgets/base",
      "_view_module_version": "1.2.0",
      "_view_name": "StyleView",
      "description_width": ""
     }
    },
    "6887fd7c56ca4dda845e7054ec5ebe76": {
     "model_module": "@jupyter-widgets/controls",
     "model_module_version": "1.5.0",
     "model_name": "HTMLModel",
     "state": {
      "_dom_classes": [],
      "_model_module": "@jupyter-widgets/controls",
      "_model_module_version": "1.5.0",
      "_model_name": "HTMLModel",
      "_view_count": null,
      "_view_module": "@jupyter-widgets/controls",
      "_view_module_version": "1.5.0",
      "_view_name": "HTMLView",
      "description": "",
      "description_tooltip": null,
      "layout": "IPY_MODEL_6e573f82d7934cee9f9058d38df44730",
      "placeholder": "​",
      "style": "IPY_MODEL_2d4a0e9839e14daf88014802faeae63d",
      "value": " 0/837 [29:51&lt;?, ?it/s, train_loss=0.0024]"
     }
    },
    "6b55bb3fc5474fe7badc55b24f5828f1": {
     "model_module": "@jupyter-widgets/controls",
     "model_module_version": "1.5.0",
     "model_name": "DescriptionStyleModel",
     "state": {
      "_model_module": "@jupyter-widgets/controls",
      "_model_module_version": "1.5.0",
      "_model_name": "DescriptionStyleModel",
      "_view_count": null,
      "_view_module": "@jupyter-widgets/base",
      "_view_module_version": "1.2.0",
      "_view_name": "StyleView",
      "description_width": ""
     }
    },
    "6caa631f528c4302bdf008fd6351edab": {
     "model_module": "@jupyter-widgets/base",
     "model_module_version": "1.2.0",
     "model_name": "LayoutModel",
     "state": {
      "_model_module": "@jupyter-widgets/base",
      "_model_module_version": "1.2.0",
      "_model_name": "LayoutModel",
      "_view_count": null,
      "_view_module": "@jupyter-widgets/base",
      "_view_module_version": "1.2.0",
      "_view_name": "LayoutView",
      "align_content": null,
      "align_items": null,
      "align_self": null,
      "border": null,
      "bottom": null,
      "display": null,
      "flex": null,
      "flex_flow": null,
      "grid_area": null,
      "grid_auto_columns": null,
      "grid_auto_flow": null,
      "grid_auto_rows": null,
      "grid_column": null,
      "grid_gap": null,
      "grid_row": null,
      "grid_template_areas": null,
      "grid_template_columns": null,
      "grid_template_rows": null,
      "height": null,
      "justify_content": null,
      "justify_items": null,
      "left": null,
      "margin": null,
      "max_height": null,
      "max_width": null,
      "min_height": null,
      "min_width": null,
      "object_fit": null,
      "object_position": null,
      "order": null,
      "overflow": null,
      "overflow_x": null,
      "overflow_y": null,
      "padding": null,
      "right": null,
      "top": null,
      "visibility": null,
      "width": null
     }
    },
    "6e573f82d7934cee9f9058d38df44730": {
     "model_module": "@jupyter-widgets/base",
     "model_module_version": "1.2.0",
     "model_name": "LayoutModel",
     "state": {
      "_model_module": "@jupyter-widgets/base",
      "_model_module_version": "1.2.0",
      "_model_name": "LayoutModel",
      "_view_count": null,
      "_view_module": "@jupyter-widgets/base",
      "_view_module_version": "1.2.0",
      "_view_name": "LayoutView",
      "align_content": null,
      "align_items": null,
      "align_self": null,
      "border": null,
      "bottom": null,
      "display": null,
      "flex": null,
      "flex_flow": null,
      "grid_area": null,
      "grid_auto_columns": null,
      "grid_auto_flow": null,
      "grid_auto_rows": null,
      "grid_column": null,
      "grid_gap": null,
      "grid_row": null,
      "grid_template_areas": null,
      "grid_template_columns": null,
      "grid_template_rows": null,
      "height": null,
      "justify_content": null,
      "justify_items": null,
      "left": null,
      "margin": null,
      "max_height": null,
      "max_width": null,
      "min_height": null,
      "min_width": null,
      "object_fit": null,
      "object_position": null,
      "order": null,
      "overflow": null,
      "overflow_x": null,
      "overflow_y": null,
      "padding": null,
      "right": null,
      "top": null,
      "visibility": null,
      "width": null
     }
    },
    "6f3aac8a472d4624b59fa0d6df0eff11": {
     "model_module": "@jupyter-widgets/base",
     "model_module_version": "1.2.0",
     "model_name": "LayoutModel",
     "state": {
      "_model_module": "@jupyter-widgets/base",
      "_model_module_version": "1.2.0",
      "_model_name": "LayoutModel",
      "_view_count": null,
      "_view_module": "@jupyter-widgets/base",
      "_view_module_version": "1.2.0",
      "_view_name": "LayoutView",
      "align_content": null,
      "align_items": null,
      "align_self": null,
      "border": null,
      "bottom": null,
      "display": null,
      "flex": null,
      "flex_flow": null,
      "grid_area": null,
      "grid_auto_columns": null,
      "grid_auto_flow": null,
      "grid_auto_rows": null,
      "grid_column": null,
      "grid_gap": null,
      "grid_row": null,
      "grid_template_areas": null,
      "grid_template_columns": null,
      "grid_template_rows": null,
      "height": null,
      "justify_content": null,
      "justify_items": null,
      "left": null,
      "margin": null,
      "max_height": null,
      "max_width": null,
      "min_height": null,
      "min_width": null,
      "object_fit": null,
      "object_position": null,
      "order": null,
      "overflow": null,
      "overflow_x": null,
      "overflow_y": null,
      "padding": null,
      "right": null,
      "top": null,
      "visibility": null,
      "width": null
     }
    },
    "71800a3996d14476a8e1ec6f35de3f4e": {
     "model_module": "@jupyter-widgets/controls",
     "model_module_version": "1.5.0",
     "model_name": "HTMLModel",
     "state": {
      "_dom_classes": [],
      "_model_module": "@jupyter-widgets/controls",
      "_model_module_version": "1.5.0",
      "_model_name": "HTMLModel",
      "_view_count": null,
      "_view_module": "@jupyter-widgets/controls",
      "_view_module_version": "1.5.0",
      "_view_name": "HTMLView",
      "description": "",
      "description_tooltip": null,
      "layout": "IPY_MODEL_856bf89f8d904acfb05680f74985fb59",
      "placeholder": "​",
      "style": "IPY_MODEL_14125e3f2eb64669b7f0d78d69fb234e",
      "value": "Epoch 4/10:   0%"
     }
    },
    "7393240d17ec497d9a373001c2a79e94": {
     "model_module": "@jupyter-widgets/controls",
     "model_module_version": "1.5.0",
     "model_name": "HBoxModel",
     "state": {
      "_dom_classes": [],
      "_model_module": "@jupyter-widgets/controls",
      "_model_module_version": "1.5.0",
      "_model_name": "HBoxModel",
      "_view_count": null,
      "_view_module": "@jupyter-widgets/controls",
      "_view_module_version": "1.5.0",
      "_view_name": "HBoxView",
      "box_style": "",
      "children": [
       "IPY_MODEL_71800a3996d14476a8e1ec6f35de3f4e",
       "IPY_MODEL_91df5bc042144814800f5fa261ebbc23",
       "IPY_MODEL_4c13e771a95e4305a202a3d95a3357ca"
      ],
      "layout": "IPY_MODEL_b2c613aeeb604771b6771544a0f211d1"
     }
    },
    "775c95daa699452ab9d60563e5087dee": {
     "model_module": "@jupyter-widgets/controls",
     "model_module_version": "1.5.0",
     "model_name": "HTMLModel",
     "state": {
      "_dom_classes": [],
      "_model_module": "@jupyter-widgets/controls",
      "_model_module_version": "1.5.0",
      "_model_name": "HTMLModel",
      "_view_count": null,
      "_view_module": "@jupyter-widgets/controls",
      "_view_module_version": "1.5.0",
      "_view_name": "HTMLView",
      "description": "",
      "description_tooltip": null,
      "layout": "IPY_MODEL_59d891a093064997916f64047393742c",
      "placeholder": "​",
      "style": "IPY_MODEL_3b06360a6b16412fa7db940cb52243a5",
      "value": "Epoch 8/10:   0%"
     }
    },
    "775cf45f343a455ebaee07dbf1929839": {
     "model_module": "@jupyter-widgets/base",
     "model_module_version": "1.2.0",
     "model_name": "LayoutModel",
     "state": {
      "_model_module": "@jupyter-widgets/base",
      "_model_module_version": "1.2.0",
      "_model_name": "LayoutModel",
      "_view_count": null,
      "_view_module": "@jupyter-widgets/base",
      "_view_module_version": "1.2.0",
      "_view_name": "LayoutView",
      "align_content": null,
      "align_items": null,
      "align_self": null,
      "border": null,
      "bottom": null,
      "display": null,
      "flex": null,
      "flex_flow": null,
      "grid_area": null,
      "grid_auto_columns": null,
      "grid_auto_flow": null,
      "grid_auto_rows": null,
      "grid_column": null,
      "grid_gap": null,
      "grid_row": null,
      "grid_template_areas": null,
      "grid_template_columns": null,
      "grid_template_rows": null,
      "height": null,
      "justify_content": null,
      "justify_items": null,
      "left": null,
      "margin": null,
      "max_height": null,
      "max_width": null,
      "min_height": null,
      "min_width": null,
      "object_fit": null,
      "object_position": null,
      "order": null,
      "overflow": null,
      "overflow_x": null,
      "overflow_y": null,
      "padding": null,
      "right": null,
      "top": null,
      "visibility": null,
      "width": null
     }
    },
    "77cbfe2697b84c04b7406daf3c0a5503": {
     "model_module": "@jupyter-widgets/base",
     "model_module_version": "1.2.0",
     "model_name": "LayoutModel",
     "state": {
      "_model_module": "@jupyter-widgets/base",
      "_model_module_version": "1.2.0",
      "_model_name": "LayoutModel",
      "_view_count": null,
      "_view_module": "@jupyter-widgets/base",
      "_view_module_version": "1.2.0",
      "_view_name": "LayoutView",
      "align_content": null,
      "align_items": null,
      "align_self": null,
      "border": null,
      "bottom": null,
      "display": null,
      "flex": null,
      "flex_flow": null,
      "grid_area": null,
      "grid_auto_columns": null,
      "grid_auto_flow": null,
      "grid_auto_rows": null,
      "grid_column": null,
      "grid_gap": null,
      "grid_row": null,
      "grid_template_areas": null,
      "grid_template_columns": null,
      "grid_template_rows": null,
      "height": null,
      "justify_content": null,
      "justify_items": null,
      "left": null,
      "margin": null,
      "max_height": null,
      "max_width": null,
      "min_height": null,
      "min_width": null,
      "object_fit": null,
      "object_position": null,
      "order": null,
      "overflow": null,
      "overflow_x": null,
      "overflow_y": null,
      "padding": null,
      "right": null,
      "top": null,
      "visibility": null,
      "width": null
     }
    },
    "786cc1c76bc945a6a2588dff8bf0ea5a": {
     "model_module": "@jupyter-widgets/controls",
     "model_module_version": "1.5.0",
     "model_name": "HBoxModel",
     "state": {
      "_dom_classes": [],
      "_model_module": "@jupyter-widgets/controls",
      "_model_module_version": "1.5.0",
      "_model_name": "HBoxModel",
      "_view_count": null,
      "_view_module": "@jupyter-widgets/controls",
      "_view_module_version": "1.5.0",
      "_view_name": "HBoxView",
      "box_style": "",
      "children": [
       "IPY_MODEL_e9a7fcfa842546e48683e2226b3b5d37",
       "IPY_MODEL_356fa43cb3504b6fa296fed190cf8d1c",
       "IPY_MODEL_665fec1f98e842c7abe505dd2d97db95"
      ],
      "layout": "IPY_MODEL_9161509f75ba4a2ebb8fab242eec2e5c"
     }
    },
    "7948d4498a5f4d4a9618b39086ab4ece": {
     "model_module": "@jupyter-widgets/base",
     "model_module_version": "1.2.0",
     "model_name": "LayoutModel",
     "state": {
      "_model_module": "@jupyter-widgets/base",
      "_model_module_version": "1.2.0",
      "_model_name": "LayoutModel",
      "_view_count": null,
      "_view_module": "@jupyter-widgets/base",
      "_view_module_version": "1.2.0",
      "_view_name": "LayoutView",
      "align_content": null,
      "align_items": null,
      "align_self": null,
      "border": null,
      "bottom": null,
      "display": null,
      "flex": null,
      "flex_flow": null,
      "grid_area": null,
      "grid_auto_columns": null,
      "grid_auto_flow": null,
      "grid_auto_rows": null,
      "grid_column": null,
      "grid_gap": null,
      "grid_row": null,
      "grid_template_areas": null,
      "grid_template_columns": null,
      "grid_template_rows": null,
      "height": null,
      "justify_content": null,
      "justify_items": null,
      "left": null,
      "margin": null,
      "max_height": null,
      "max_width": null,
      "min_height": null,
      "min_width": null,
      "object_fit": null,
      "object_position": null,
      "order": null,
      "overflow": null,
      "overflow_x": null,
      "overflow_y": null,
      "padding": null,
      "right": null,
      "top": null,
      "visibility": null,
      "width": null
     }
    },
    "7c29cb6e381046e7bc8933b92fdc9a84": {
     "model_module": "@jupyter-widgets/base",
     "model_module_version": "1.2.0",
     "model_name": "LayoutModel",
     "state": {
      "_model_module": "@jupyter-widgets/base",
      "_model_module_version": "1.2.0",
      "_model_name": "LayoutModel",
      "_view_count": null,
      "_view_module": "@jupyter-widgets/base",
      "_view_module_version": "1.2.0",
      "_view_name": "LayoutView",
      "align_content": null,
      "align_items": null,
      "align_self": null,
      "border": null,
      "bottom": null,
      "display": null,
      "flex": null,
      "flex_flow": null,
      "grid_area": null,
      "grid_auto_columns": null,
      "grid_auto_flow": null,
      "grid_auto_rows": null,
      "grid_column": null,
      "grid_gap": null,
      "grid_row": null,
      "grid_template_areas": null,
      "grid_template_columns": null,
      "grid_template_rows": null,
      "height": null,
      "justify_content": null,
      "justify_items": null,
      "left": null,
      "margin": null,
      "max_height": null,
      "max_width": null,
      "min_height": null,
      "min_width": null,
      "object_fit": null,
      "object_position": null,
      "order": null,
      "overflow": null,
      "overflow_x": null,
      "overflow_y": null,
      "padding": null,
      "right": null,
      "top": null,
      "visibility": null,
      "width": null
     }
    },
    "7ccd46a09c1145f6b3e3f85e57cfa27c": {
     "model_module": "@jupyter-widgets/controls",
     "model_module_version": "1.5.0",
     "model_name": "DescriptionStyleModel",
     "state": {
      "_model_module": "@jupyter-widgets/controls",
      "_model_module_version": "1.5.0",
      "_model_name": "DescriptionStyleModel",
      "_view_count": null,
      "_view_module": "@jupyter-widgets/base",
      "_view_module_version": "1.2.0",
      "_view_name": "StyleView",
      "description_width": ""
     }
    },
    "8003548847f042d392ec1f5d7f0ebc07": {
     "model_module": "@jupyter-widgets/controls",
     "model_module_version": "1.5.0",
     "model_name": "DescriptionStyleModel",
     "state": {
      "_model_module": "@jupyter-widgets/controls",
      "_model_module_version": "1.5.0",
      "_model_name": "DescriptionStyleModel",
      "_view_count": null,
      "_view_module": "@jupyter-widgets/base",
      "_view_module_version": "1.2.0",
      "_view_name": "StyleView",
      "description_width": ""
     }
    },
    "804818f469474f1bb19d9624306d75ca": {
     "model_module": "@jupyter-widgets/controls",
     "model_module_version": "1.5.0",
     "model_name": "FloatProgressModel",
     "state": {
      "_dom_classes": [],
      "_model_module": "@jupyter-widgets/controls",
      "_model_module_version": "1.5.0",
      "_model_name": "FloatProgressModel",
      "_view_count": null,
      "_view_module": "@jupyter-widgets/controls",
      "_view_module_version": "1.5.0",
      "_view_name": "ProgressView",
      "bar_style": "danger",
      "description": "",
      "description_tooltip": null,
      "layout": "IPY_MODEL_7948d4498a5f4d4a9618b39086ab4ece",
      "max": 837,
      "min": 0,
      "orientation": "horizontal",
      "style": "IPY_MODEL_12c35963985a4df291c85fc080689200",
      "value": 0
     }
    },
    "819af2b0e4084d6cb1ff7120176073be": {
     "model_module": "@jupyter-widgets/controls",
     "model_module_version": "1.5.0",
     "model_name": "HBoxModel",
     "state": {
      "_dom_classes": [],
      "_model_module": "@jupyter-widgets/controls",
      "_model_module_version": "1.5.0",
      "_model_name": "HBoxModel",
      "_view_count": null,
      "_view_module": "@jupyter-widgets/controls",
      "_view_module_version": "1.5.0",
      "_view_name": "HBoxView",
      "box_style": "",
      "children": [
       "IPY_MODEL_0980da41eaf3471bb93951b6f51b536c",
       "IPY_MODEL_804818f469474f1bb19d9624306d75ca",
       "IPY_MODEL_ff61d1c3fa55431dac816f3fc4d42bc2"
      ],
      "layout": "IPY_MODEL_3972685cc5424dd28ac6f070b0c7b96a"
     }
    },
    "81a714c84455446e9de5b04800a7100b": {
     "model_module": "@jupyter-widgets/base",
     "model_module_version": "1.2.0",
     "model_name": "LayoutModel",
     "state": {
      "_model_module": "@jupyter-widgets/base",
      "_model_module_version": "1.2.0",
      "_model_name": "LayoutModel",
      "_view_count": null,
      "_view_module": "@jupyter-widgets/base",
      "_view_module_version": "1.2.0",
      "_view_name": "LayoutView",
      "align_content": null,
      "align_items": null,
      "align_self": null,
      "border": null,
      "bottom": null,
      "display": null,
      "flex": null,
      "flex_flow": null,
      "grid_area": null,
      "grid_auto_columns": null,
      "grid_auto_flow": null,
      "grid_auto_rows": null,
      "grid_column": null,
      "grid_gap": null,
      "grid_row": null,
      "grid_template_areas": null,
      "grid_template_columns": null,
      "grid_template_rows": null,
      "height": null,
      "justify_content": null,
      "justify_items": null,
      "left": null,
      "margin": null,
      "max_height": null,
      "max_width": null,
      "min_height": null,
      "min_width": null,
      "object_fit": null,
      "object_position": null,
      "order": null,
      "overflow": null,
      "overflow_x": null,
      "overflow_y": null,
      "padding": null,
      "right": null,
      "top": null,
      "visibility": null,
      "width": null
     }
    },
    "856bf89f8d904acfb05680f74985fb59": {
     "model_module": "@jupyter-widgets/base",
     "model_module_version": "1.2.0",
     "model_name": "LayoutModel",
     "state": {
      "_model_module": "@jupyter-widgets/base",
      "_model_module_version": "1.2.0",
      "_model_name": "LayoutModel",
      "_view_count": null,
      "_view_module": "@jupyter-widgets/base",
      "_view_module_version": "1.2.0",
      "_view_name": "LayoutView",
      "align_content": null,
      "align_items": null,
      "align_self": null,
      "border": null,
      "bottom": null,
      "display": null,
      "flex": null,
      "flex_flow": null,
      "grid_area": null,
      "grid_auto_columns": null,
      "grid_auto_flow": null,
      "grid_auto_rows": null,
      "grid_column": null,
      "grid_gap": null,
      "grid_row": null,
      "grid_template_areas": null,
      "grid_template_columns": null,
      "grid_template_rows": null,
      "height": null,
      "justify_content": null,
      "justify_items": null,
      "left": null,
      "margin": null,
      "max_height": null,
      "max_width": null,
      "min_height": null,
      "min_width": null,
      "object_fit": null,
      "object_position": null,
      "order": null,
      "overflow": null,
      "overflow_x": null,
      "overflow_y": null,
      "padding": null,
      "right": null,
      "top": null,
      "visibility": null,
      "width": null
     }
    },
    "85f0e0b107fa4a11bcfffd86fd773fd8": {
     "model_module": "@jupyter-widgets/controls",
     "model_module_version": "1.5.0",
     "model_name": "FloatProgressModel",
     "state": {
      "_dom_classes": [],
      "_model_module": "@jupyter-widgets/controls",
      "_model_module_version": "1.5.0",
      "_model_name": "FloatProgressModel",
      "_view_count": null,
      "_view_module": "@jupyter-widgets/controls",
      "_view_module_version": "1.5.0",
      "_view_name": "ProgressView",
      "bar_style": "danger",
      "description": "",
      "description_tooltip": null,
      "layout": "IPY_MODEL_a41e9432773c4f40a58f776b1891de90",
      "max": 837,
      "min": 0,
      "orientation": "horizontal",
      "style": "IPY_MODEL_c31093d374144e4e8ba0fc9802402f79",
      "value": 0
     }
    },
    "8875587aa3394657a419357564b361bf": {
     "model_module": "@jupyter-widgets/controls",
     "model_module_version": "1.5.0",
     "model_name": "DescriptionStyleModel",
     "state": {
      "_model_module": "@jupyter-widgets/controls",
      "_model_module_version": "1.5.0",
      "_model_name": "DescriptionStyleModel",
      "_view_count": null,
      "_view_module": "@jupyter-widgets/base",
      "_view_module_version": "1.2.0",
      "_view_name": "StyleView",
      "description_width": ""
     }
    },
    "897f329e08014cf8b582abecc6c3024b": {
     "model_module": "@jupyter-widgets/controls",
     "model_module_version": "1.5.0",
     "model_name": "FloatProgressModel",
     "state": {
      "_dom_classes": [],
      "_model_module": "@jupyter-widgets/controls",
      "_model_module_version": "1.5.0",
      "_model_name": "FloatProgressModel",
      "_view_count": null,
      "_view_module": "@jupyter-widgets/controls",
      "_view_module_version": "1.5.0",
      "_view_name": "ProgressView",
      "bar_style": "danger",
      "description": "",
      "description_tooltip": null,
      "layout": "IPY_MODEL_775cf45f343a455ebaee07dbf1929839",
      "max": 837,
      "min": 0,
      "orientation": "horizontal",
      "style": "IPY_MODEL_b1de9b8b4cd34406990da538841803c4",
      "value": 0
     }
    },
    "8bb7fd49da4549f69924835aa2739eca": {
     "model_module": "@jupyter-widgets/controls",
     "model_module_version": "1.5.0",
     "model_name": "FloatProgressModel",
     "state": {
      "_dom_classes": [],
      "_model_module": "@jupyter-widgets/controls",
      "_model_module_version": "1.5.0",
      "_model_name": "FloatProgressModel",
      "_view_count": null,
      "_view_module": "@jupyter-widgets/controls",
      "_view_module_version": "1.5.0",
      "_view_name": "ProgressView",
      "bar_style": "danger",
      "description": "",
      "description_tooltip": null,
      "layout": "IPY_MODEL_54915624a21a43768c543db5c0fa08dd",
      "max": 837,
      "min": 0,
      "orientation": "horizontal",
      "style": "IPY_MODEL_ea1b8779291a406385fdde779c1930cb",
      "value": 0
     }
    },
    "9161509f75ba4a2ebb8fab242eec2e5c": {
     "model_module": "@jupyter-widgets/base",
     "model_module_version": "1.2.0",
     "model_name": "LayoutModel",
     "state": {
      "_model_module": "@jupyter-widgets/base",
      "_model_module_version": "1.2.0",
      "_model_name": "LayoutModel",
      "_view_count": null,
      "_view_module": "@jupyter-widgets/base",
      "_view_module_version": "1.2.0",
      "_view_name": "LayoutView",
      "align_content": null,
      "align_items": null,
      "align_self": null,
      "border": null,
      "bottom": null,
      "display": null,
      "flex": null,
      "flex_flow": null,
      "grid_area": null,
      "grid_auto_columns": null,
      "grid_auto_flow": null,
      "grid_auto_rows": null,
      "grid_column": null,
      "grid_gap": null,
      "grid_row": null,
      "grid_template_areas": null,
      "grid_template_columns": null,
      "grid_template_rows": null,
      "height": null,
      "justify_content": null,
      "justify_items": null,
      "left": null,
      "margin": null,
      "max_height": null,
      "max_width": null,
      "min_height": null,
      "min_width": null,
      "object_fit": null,
      "object_position": null,
      "order": null,
      "overflow": null,
      "overflow_x": null,
      "overflow_y": null,
      "padding": null,
      "right": null,
      "top": null,
      "visibility": null,
      "width": null
     }
    },
    "91df5bc042144814800f5fa261ebbc23": {
     "model_module": "@jupyter-widgets/controls",
     "model_module_version": "1.5.0",
     "model_name": "FloatProgressModel",
     "state": {
      "_dom_classes": [],
      "_model_module": "@jupyter-widgets/controls",
      "_model_module_version": "1.5.0",
      "_model_name": "FloatProgressModel",
      "_view_count": null,
      "_view_module": "@jupyter-widgets/controls",
      "_view_module_version": "1.5.0",
      "_view_name": "ProgressView",
      "bar_style": "danger",
      "description": "",
      "description_tooltip": null,
      "layout": "IPY_MODEL_1c53fe1e77ec4a88acd0284252e9da2e",
      "max": 837,
      "min": 0,
      "orientation": "horizontal",
      "style": "IPY_MODEL_d58b67f6de5c466f9b3c9d96ee9bc155",
      "value": 0
     }
    },
    "933781442f974024b15ffcb1679d898f": {
     "model_module": "@jupyter-widgets/base",
     "model_module_version": "1.2.0",
     "model_name": "LayoutModel",
     "state": {
      "_model_module": "@jupyter-widgets/base",
      "_model_module_version": "1.2.0",
      "_model_name": "LayoutModel",
      "_view_count": null,
      "_view_module": "@jupyter-widgets/base",
      "_view_module_version": "1.2.0",
      "_view_name": "LayoutView",
      "align_content": null,
      "align_items": null,
      "align_self": null,
      "border": null,
      "bottom": null,
      "display": null,
      "flex": null,
      "flex_flow": null,
      "grid_area": null,
      "grid_auto_columns": null,
      "grid_auto_flow": null,
      "grid_auto_rows": null,
      "grid_column": null,
      "grid_gap": null,
      "grid_row": null,
      "grid_template_areas": null,
      "grid_template_columns": null,
      "grid_template_rows": null,
      "height": null,
      "justify_content": null,
      "justify_items": null,
      "left": null,
      "margin": null,
      "max_height": null,
      "max_width": null,
      "min_height": null,
      "min_width": null,
      "object_fit": null,
      "object_position": null,
      "order": null,
      "overflow": null,
      "overflow_x": null,
      "overflow_y": null,
      "padding": null,
      "right": null,
      "top": null,
      "visibility": null,
      "width": null
     }
    },
    "94815e00eddd4f92a3137583d5fa5d25": {
     "model_module": "@jupyter-widgets/base",
     "model_module_version": "1.2.0",
     "model_name": "LayoutModel",
     "state": {
      "_model_module": "@jupyter-widgets/base",
      "_model_module_version": "1.2.0",
      "_model_name": "LayoutModel",
      "_view_count": null,
      "_view_module": "@jupyter-widgets/base",
      "_view_module_version": "1.2.0",
      "_view_name": "LayoutView",
      "align_content": null,
      "align_items": null,
      "align_self": null,
      "border": null,
      "bottom": null,
      "display": null,
      "flex": null,
      "flex_flow": null,
      "grid_area": null,
      "grid_auto_columns": null,
      "grid_auto_flow": null,
      "grid_auto_rows": null,
      "grid_column": null,
      "grid_gap": null,
      "grid_row": null,
      "grid_template_areas": null,
      "grid_template_columns": null,
      "grid_template_rows": null,
      "height": null,
      "justify_content": null,
      "justify_items": null,
      "left": null,
      "margin": null,
      "max_height": null,
      "max_width": null,
      "min_height": null,
      "min_width": null,
      "object_fit": null,
      "object_position": null,
      "order": null,
      "overflow": null,
      "overflow_x": null,
      "overflow_y": null,
      "padding": null,
      "right": null,
      "top": null,
      "visibility": null,
      "width": null
     }
    },
    "978271540b1b4c85a6fe886d269b794f": {
     "model_module": "@jupyter-widgets/controls",
     "model_module_version": "1.5.0",
     "model_name": "DescriptionStyleModel",
     "state": {
      "_model_module": "@jupyter-widgets/controls",
      "_model_module_version": "1.5.0",
      "_model_name": "DescriptionStyleModel",
      "_view_count": null,
      "_view_module": "@jupyter-widgets/base",
      "_view_module_version": "1.2.0",
      "_view_name": "StyleView",
      "description_width": ""
     }
    },
    "a15dfa901b274b048d6e864058c5e66a": {
     "model_module": "@jupyter-widgets/controls",
     "model_module_version": "1.5.0",
     "model_name": "HBoxModel",
     "state": {
      "_dom_classes": [],
      "_model_module": "@jupyter-widgets/controls",
      "_model_module_version": "1.5.0",
      "_model_name": "HBoxModel",
      "_view_count": null,
      "_view_module": "@jupyter-widgets/controls",
      "_view_module_version": "1.5.0",
      "_view_name": "HBoxView",
      "box_style": "",
      "children": [
       "IPY_MODEL_4851999bbbfc4676a5a93e57834778a1",
       "IPY_MODEL_16aee7ac89dd4170bcb0182655b792af",
       "IPY_MODEL_e855f4e92f7c40c7920634fee1f2e8b3"
      ],
      "layout": "IPY_MODEL_21423d3a38bc4de691b6f158a7c85385"
     }
    },
    "a218ad1a9acb496d9ac5b5f131170a43": {
     "model_module": "@jupyter-widgets/controls",
     "model_module_version": "1.5.0",
     "model_name": "DescriptionStyleModel",
     "state": {
      "_model_module": "@jupyter-widgets/controls",
      "_model_module_version": "1.5.0",
      "_model_name": "DescriptionStyleModel",
      "_view_count": null,
      "_view_module": "@jupyter-widgets/base",
      "_view_module_version": "1.2.0",
      "_view_name": "StyleView",
      "description_width": ""
     }
    },
    "a41e9432773c4f40a58f776b1891de90": {
     "model_module": "@jupyter-widgets/base",
     "model_module_version": "1.2.0",
     "model_name": "LayoutModel",
     "state": {
      "_model_module": "@jupyter-widgets/base",
      "_model_module_version": "1.2.0",
      "_model_name": "LayoutModel",
      "_view_count": null,
      "_view_module": "@jupyter-widgets/base",
      "_view_module_version": "1.2.0",
      "_view_name": "LayoutView",
      "align_content": null,
      "align_items": null,
      "align_self": null,
      "border": null,
      "bottom": null,
      "display": null,
      "flex": null,
      "flex_flow": null,
      "grid_area": null,
      "grid_auto_columns": null,
      "grid_auto_flow": null,
      "grid_auto_rows": null,
      "grid_column": null,
      "grid_gap": null,
      "grid_row": null,
      "grid_template_areas": null,
      "grid_template_columns": null,
      "grid_template_rows": null,
      "height": null,
      "justify_content": null,
      "justify_items": null,
      "left": null,
      "margin": null,
      "max_height": null,
      "max_width": null,
      "min_height": null,
      "min_width": null,
      "object_fit": null,
      "object_position": null,
      "order": null,
      "overflow": null,
      "overflow_x": null,
      "overflow_y": null,
      "padding": null,
      "right": null,
      "top": null,
      "visibility": null,
      "width": null
     }
    },
    "aa8f42d3f7d545f5a8b11d1b86f5de9e": {
     "model_module": "@jupyter-widgets/controls",
     "model_module_version": "1.5.0",
     "model_name": "HTMLModel",
     "state": {
      "_dom_classes": [],
      "_model_module": "@jupyter-widgets/controls",
      "_model_module_version": "1.5.0",
      "_model_name": "HTMLModel",
      "_view_count": null,
      "_view_module": "@jupyter-widgets/controls",
      "_view_module_version": "1.5.0",
      "_view_name": "HTMLView",
      "description": "",
      "description_tooltip": null,
      "layout": "IPY_MODEL_dfc9132775104f36a9a6897135d4b6ef",
      "placeholder": "​",
      "style": "IPY_MODEL_7ccd46a09c1145f6b3e3f85e57cfa27c",
      "value": "Epoch 5/10:   0%"
     }
    },
    "aaefc505bcf6492ba08e390a84210d00": {
     "model_module": "@jupyter-widgets/controls",
     "model_module_version": "1.5.0",
     "model_name": "HBoxModel",
     "state": {
      "_dom_classes": [],
      "_model_module": "@jupyter-widgets/controls",
      "_model_module_version": "1.5.0",
      "_model_name": "HBoxModel",
      "_view_count": null,
      "_view_module": "@jupyter-widgets/controls",
      "_view_module_version": "1.5.0",
      "_view_name": "HBoxView",
      "box_style": "",
      "children": [
       "IPY_MODEL_aa8f42d3f7d545f5a8b11d1b86f5de9e",
       "IPY_MODEL_21293d6b696a47d7b795aa1837701fc7",
       "IPY_MODEL_c4e22305800f412da4b96f94f99ec758"
      ],
      "layout": "IPY_MODEL_6f3aac8a472d4624b59fa0d6df0eff11"
     }
    },
    "ad0fea7bd02a4134a680cf26704ec5b3": {
     "model_module": "@jupyter-widgets/controls",
     "model_module_version": "1.5.0",
     "model_name": "HTMLModel",
     "state": {
      "_dom_classes": [],
      "_model_module": "@jupyter-widgets/controls",
      "_model_module_version": "1.5.0",
      "_model_name": "HTMLModel",
      "_view_count": null,
      "_view_module": "@jupyter-widgets/controls",
      "_view_module_version": "1.5.0",
      "_view_name": "HTMLView",
      "description": "",
      "description_tooltip": null,
      "layout": "IPY_MODEL_efcb7784566c46eca64f7275cf742302",
      "placeholder": "​",
      "style": "IPY_MODEL_68318dada5ad4163b162e6563495af2f",
      "value": " 0/837 [22:22&lt;?, ?it/s, train_loss=0.00752]"
     }
    },
    "b10b8eb59d474b708ec8a1ea9a85aece": {
     "model_module": "@jupyter-widgets/controls",
     "model_module_version": "1.5.0",
     "model_name": "FloatProgressModel",
     "state": {
      "_dom_classes": [],
      "_model_module": "@jupyter-widgets/controls",
      "_model_module_version": "1.5.0",
      "_model_name": "FloatProgressModel",
      "_view_count": null,
      "_view_module": "@jupyter-widgets/controls",
      "_view_module_version": "1.5.0",
      "_view_name": "ProgressView",
      "bar_style": "danger",
      "description": "",
      "description_tooltip": null,
      "layout": "IPY_MODEL_eedb7e942bef4321a6f7615e2f140c78",
      "max": 837,
      "min": 0,
      "orientation": "horizontal",
      "style": "IPY_MODEL_592053916b854691ba7a854ece8de538",
      "value": 0
     }
    },
    "b1de9b8b4cd34406990da538841803c4": {
     "model_module": "@jupyter-widgets/controls",
     "model_module_version": "1.5.0",
     "model_name": "ProgressStyleModel",
     "state": {
      "_model_module": "@jupyter-widgets/controls",
      "_model_module_version": "1.5.0",
      "_model_name": "ProgressStyleModel",
      "_view_count": null,
      "_view_module": "@jupyter-widgets/base",
      "_view_module_version": "1.2.0",
      "_view_name": "StyleView",
      "bar_color": null,
      "description_width": ""
     }
    },
    "b2c613aeeb604771b6771544a0f211d1": {
     "model_module": "@jupyter-widgets/base",
     "model_module_version": "1.2.0",
     "model_name": "LayoutModel",
     "state": {
      "_model_module": "@jupyter-widgets/base",
      "_model_module_version": "1.2.0",
      "_model_name": "LayoutModel",
      "_view_count": null,
      "_view_module": "@jupyter-widgets/base",
      "_view_module_version": "1.2.0",
      "_view_name": "LayoutView",
      "align_content": null,
      "align_items": null,
      "align_self": null,
      "border": null,
      "bottom": null,
      "display": null,
      "flex": null,
      "flex_flow": null,
      "grid_area": null,
      "grid_auto_columns": null,
      "grid_auto_flow": null,
      "grid_auto_rows": null,
      "grid_column": null,
      "grid_gap": null,
      "grid_row": null,
      "grid_template_areas": null,
      "grid_template_columns": null,
      "grid_template_rows": null,
      "height": null,
      "justify_content": null,
      "justify_items": null,
      "left": null,
      "margin": null,
      "max_height": null,
      "max_width": null,
      "min_height": null,
      "min_width": null,
      "object_fit": null,
      "object_position": null,
      "order": null,
      "overflow": null,
      "overflow_x": null,
      "overflow_y": null,
      "padding": null,
      "right": null,
      "top": null,
      "visibility": null,
      "width": null
     }
    },
    "b33741c9be5846aa8252096af76168cd": {
     "model_module": "@jupyter-widgets/base",
     "model_module_version": "1.2.0",
     "model_name": "LayoutModel",
     "state": {
      "_model_module": "@jupyter-widgets/base",
      "_model_module_version": "1.2.0",
      "_model_name": "LayoutModel",
      "_view_count": null,
      "_view_module": "@jupyter-widgets/base",
      "_view_module_version": "1.2.0",
      "_view_name": "LayoutView",
      "align_content": null,
      "align_items": null,
      "align_self": null,
      "border": null,
      "bottom": null,
      "display": null,
      "flex": null,
      "flex_flow": null,
      "grid_area": null,
      "grid_auto_columns": null,
      "grid_auto_flow": null,
      "grid_auto_rows": null,
      "grid_column": null,
      "grid_gap": null,
      "grid_row": null,
      "grid_template_areas": null,
      "grid_template_columns": null,
      "grid_template_rows": null,
      "height": null,
      "justify_content": null,
      "justify_items": null,
      "left": null,
      "margin": null,
      "max_height": null,
      "max_width": null,
      "min_height": null,
      "min_width": null,
      "object_fit": null,
      "object_position": null,
      "order": null,
      "overflow": null,
      "overflow_x": null,
      "overflow_y": null,
      "padding": null,
      "right": null,
      "top": null,
      "visibility": null,
      "width": null
     }
    },
    "b7e71ba4f4484cf08141279a5d8c0f42": {
     "model_module": "@jupyter-widgets/base",
     "model_module_version": "1.2.0",
     "model_name": "LayoutModel",
     "state": {
      "_model_module": "@jupyter-widgets/base",
      "_model_module_version": "1.2.0",
      "_model_name": "LayoutModel",
      "_view_count": null,
      "_view_module": "@jupyter-widgets/base",
      "_view_module_version": "1.2.0",
      "_view_name": "LayoutView",
      "align_content": null,
      "align_items": null,
      "align_self": null,
      "border": null,
      "bottom": null,
      "display": null,
      "flex": null,
      "flex_flow": null,
      "grid_area": null,
      "grid_auto_columns": null,
      "grid_auto_flow": null,
      "grid_auto_rows": null,
      "grid_column": null,
      "grid_gap": null,
      "grid_row": null,
      "grid_template_areas": null,
      "grid_template_columns": null,
      "grid_template_rows": null,
      "height": null,
      "justify_content": null,
      "justify_items": null,
      "left": null,
      "margin": null,
      "max_height": null,
      "max_width": null,
      "min_height": null,
      "min_width": null,
      "object_fit": null,
      "object_position": null,
      "order": null,
      "overflow": null,
      "overflow_x": null,
      "overflow_y": null,
      "padding": null,
      "right": null,
      "top": null,
      "visibility": null,
      "width": null
     }
    },
    "b94f2cdd146545b08494fbce50612165": {
     "model_module": "@jupyter-widgets/controls",
     "model_module_version": "1.5.0",
     "model_name": "HBoxModel",
     "state": {
      "_dom_classes": [],
      "_model_module": "@jupyter-widgets/controls",
      "_model_module_version": "1.5.0",
      "_model_name": "HBoxModel",
      "_view_count": null,
      "_view_module": "@jupyter-widgets/controls",
      "_view_module_version": "1.5.0",
      "_view_name": "HBoxView",
      "box_style": "",
      "children": [
       "IPY_MODEL_d8a32aee91494d329fcd6ffd499caa9e",
       "IPY_MODEL_8bb7fd49da4549f69924835aa2739eca",
       "IPY_MODEL_6887fd7c56ca4dda845e7054ec5ebe76"
      ],
      "layout": "IPY_MODEL_f74397ef174b4112873e1fae0e1819c7"
     }
    },
    "bbca1706124444cf997be12b118dd899": {
     "model_module": "@jupyter-widgets/controls",
     "model_module_version": "1.5.0",
     "model_name": "ProgressStyleModel",
     "state": {
      "_model_module": "@jupyter-widgets/controls",
      "_model_module_version": "1.5.0",
      "_model_name": "ProgressStyleModel",
      "_view_count": null,
      "_view_module": "@jupyter-widgets/base",
      "_view_module_version": "1.2.0",
      "_view_name": "StyleView",
      "bar_color": null,
      "description_width": ""
     }
    },
    "c16138bfad1643d094551f0a4dc1ad5d": {
     "model_module": "@jupyter-widgets/controls",
     "model_module_version": "1.5.0",
     "model_name": "HTMLModel",
     "state": {
      "_dom_classes": [],
      "_model_module": "@jupyter-widgets/controls",
      "_model_module_version": "1.5.0",
      "_model_name": "HTMLModel",
      "_view_count": null,
      "_view_module": "@jupyter-widgets/controls",
      "_view_module_version": "1.5.0",
      "_view_name": "HTMLView",
      "description": "",
      "description_tooltip": null,
      "layout": "IPY_MODEL_39dad53eb912499197ebed061700077b",
      "placeholder": "​",
      "style": "IPY_MODEL_e738197a9855400aa8daa7b4e68244d5",
      "value": "Epoch 3/10:   0%"
     }
    },
    "c21f83b90c684066bd702a21e93c8978": {
     "model_module": "@jupyter-widgets/base",
     "model_module_version": "1.2.0",
     "model_name": "LayoutModel",
     "state": {
      "_model_module": "@jupyter-widgets/base",
      "_model_module_version": "1.2.0",
      "_model_name": "LayoutModel",
      "_view_count": null,
      "_view_module": "@jupyter-widgets/base",
      "_view_module_version": "1.2.0",
      "_view_name": "LayoutView",
      "align_content": null,
      "align_items": null,
      "align_self": null,
      "border": null,
      "bottom": null,
      "display": null,
      "flex": null,
      "flex_flow": null,
      "grid_area": null,
      "grid_auto_columns": null,
      "grid_auto_flow": null,
      "grid_auto_rows": null,
      "grid_column": null,
      "grid_gap": null,
      "grid_row": null,
      "grid_template_areas": null,
      "grid_template_columns": null,
      "grid_template_rows": null,
      "height": null,
      "justify_content": null,
      "justify_items": null,
      "left": null,
      "margin": null,
      "max_height": null,
      "max_width": null,
      "min_height": null,
      "min_width": null,
      "object_fit": null,
      "object_position": null,
      "order": null,
      "overflow": null,
      "overflow_x": null,
      "overflow_y": null,
      "padding": null,
      "right": null,
      "top": null,
      "visibility": null,
      "width": null
     }
    },
    "c25e8a454ccf436388156297c44bb365": {
     "model_module": "@jupyter-widgets/base",
     "model_module_version": "1.2.0",
     "model_name": "LayoutModel",
     "state": {
      "_model_module": "@jupyter-widgets/base",
      "_model_module_version": "1.2.0",
      "_model_name": "LayoutModel",
      "_view_count": null,
      "_view_module": "@jupyter-widgets/base",
      "_view_module_version": "1.2.0",
      "_view_name": "LayoutView",
      "align_content": null,
      "align_items": null,
      "align_self": null,
      "border": null,
      "bottom": null,
      "display": null,
      "flex": null,
      "flex_flow": null,
      "grid_area": null,
      "grid_auto_columns": null,
      "grid_auto_flow": null,
      "grid_auto_rows": null,
      "grid_column": null,
      "grid_gap": null,
      "grid_row": null,
      "grid_template_areas": null,
      "grid_template_columns": null,
      "grid_template_rows": null,
      "height": null,
      "justify_content": null,
      "justify_items": null,
      "left": null,
      "margin": null,
      "max_height": null,
      "max_width": null,
      "min_height": null,
      "min_width": null,
      "object_fit": null,
      "object_position": null,
      "order": null,
      "overflow": null,
      "overflow_x": null,
      "overflow_y": null,
      "padding": null,
      "right": null,
      "top": null,
      "visibility": null,
      "width": null
     }
    },
    "c31093d374144e4e8ba0fc9802402f79": {
     "model_module": "@jupyter-widgets/controls",
     "model_module_version": "1.5.0",
     "model_name": "ProgressStyleModel",
     "state": {
      "_model_module": "@jupyter-widgets/controls",
      "_model_module_version": "1.5.0",
      "_model_name": "ProgressStyleModel",
      "_view_count": null,
      "_view_module": "@jupyter-widgets/base",
      "_view_module_version": "1.2.0",
      "_view_name": "StyleView",
      "bar_color": null,
      "description_width": ""
     }
    },
    "c4e22305800f412da4b96f94f99ec758": {
     "model_module": "@jupyter-widgets/controls",
     "model_module_version": "1.5.0",
     "model_name": "HTMLModel",
     "state": {
      "_dom_classes": [],
      "_model_module": "@jupyter-widgets/controls",
      "_model_module_version": "1.5.0",
      "_model_name": "HTMLModel",
      "_view_count": null,
      "_view_module": "@jupyter-widgets/controls",
      "_view_module_version": "1.5.0",
      "_view_name": "HTMLView",
      "description": "",
      "description_tooltip": null,
      "layout": "IPY_MODEL_81a714c84455446e9de5b04800a7100b",
      "placeholder": "​",
      "style": "IPY_MODEL_d53d5ef7274546fda85ea7bfd5e6882c",
      "value": " 0/837 [07:25&lt;?, ?it/s, train_loss=0.0176]"
     }
    },
    "ce38f38e7c6e47bc9719e2b67bde1377": {
     "model_module": "@jupyter-widgets/controls",
     "model_module_version": "1.5.0",
     "model_name": "HBoxModel",
     "state": {
      "_dom_classes": [],
      "_model_module": "@jupyter-widgets/controls",
      "_model_module_version": "1.5.0",
      "_model_name": "HBoxModel",
      "_view_count": null,
      "_view_module": "@jupyter-widgets/controls",
      "_view_module_version": "1.5.0",
      "_view_name": "HBoxView",
      "box_style": "",
      "children": [
       "IPY_MODEL_c16138bfad1643d094551f0a4dc1ad5d",
       "IPY_MODEL_b10b8eb59d474b708ec8a1ea9a85aece",
       "IPY_MODEL_1001e89424ac4152a659fcde3ee5d73f"
      ],
      "layout": "IPY_MODEL_94815e00eddd4f92a3137583d5fa5d25"
     }
    },
    "d0a8f89761b643d4b1cdc68170cbe562": {
     "model_module": "@jupyter-widgets/base",
     "model_module_version": "1.2.0",
     "model_name": "LayoutModel",
     "state": {
      "_model_module": "@jupyter-widgets/base",
      "_model_module_version": "1.2.0",
      "_model_name": "LayoutModel",
      "_view_count": null,
      "_view_module": "@jupyter-widgets/base",
      "_view_module_version": "1.2.0",
      "_view_name": "LayoutView",
      "align_content": null,
      "align_items": null,
      "align_self": null,
      "border": null,
      "bottom": null,
      "display": null,
      "flex": null,
      "flex_flow": null,
      "grid_area": null,
      "grid_auto_columns": null,
      "grid_auto_flow": null,
      "grid_auto_rows": null,
      "grid_column": null,
      "grid_gap": null,
      "grid_row": null,
      "grid_template_areas": null,
      "grid_template_columns": null,
      "grid_template_rows": null,
      "height": null,
      "justify_content": null,
      "justify_items": null,
      "left": null,
      "margin": null,
      "max_height": null,
      "max_width": null,
      "min_height": null,
      "min_width": null,
      "object_fit": null,
      "object_position": null,
      "order": null,
      "overflow": null,
      "overflow_x": null,
      "overflow_y": null,
      "padding": null,
      "right": null,
      "top": null,
      "visibility": null,
      "width": null
     }
    },
    "d53d5ef7274546fda85ea7bfd5e6882c": {
     "model_module": "@jupyter-widgets/controls",
     "model_module_version": "1.5.0",
     "model_name": "DescriptionStyleModel",
     "state": {
      "_model_module": "@jupyter-widgets/controls",
      "_model_module_version": "1.5.0",
      "_model_name": "DescriptionStyleModel",
      "_view_count": null,
      "_view_module": "@jupyter-widgets/base",
      "_view_module_version": "1.2.0",
      "_view_name": "StyleView",
      "description_width": ""
     }
    },
    "d58b67f6de5c466f9b3c9d96ee9bc155": {
     "model_module": "@jupyter-widgets/controls",
     "model_module_version": "1.5.0",
     "model_name": "ProgressStyleModel",
     "state": {
      "_model_module": "@jupyter-widgets/controls",
      "_model_module_version": "1.5.0",
      "_model_name": "ProgressStyleModel",
      "_view_count": null,
      "_view_module": "@jupyter-widgets/base",
      "_view_module_version": "1.2.0",
      "_view_name": "StyleView",
      "bar_color": null,
      "description_width": ""
     }
    },
    "d8a32aee91494d329fcd6ffd499caa9e": {
     "model_module": "@jupyter-widgets/controls",
     "model_module_version": "1.5.0",
     "model_name": "HTMLModel",
     "state": {
      "_dom_classes": [],
      "_model_module": "@jupyter-widgets/controls",
      "_model_module_version": "1.5.0",
      "_model_name": "HTMLModel",
      "_view_count": null,
      "_view_module": "@jupyter-widgets/controls",
      "_view_module_version": "1.5.0",
      "_view_name": "HTMLView",
      "description": "",
      "description_tooltip": null,
      "layout": "IPY_MODEL_5e7e19aa00c14c0796ecb3cf5ad6d8e9",
      "placeholder": "​",
      "style": "IPY_MODEL_8003548847f042d392ec1f5d7f0ebc07",
      "value": "Epoch 7/10:   0%"
     }
    },
    "db50788261694e1287f77efda7c7f69d": {
     "model_module": "@jupyter-widgets/controls",
     "model_module_version": "1.5.0",
     "model_name": "ProgressStyleModel",
     "state": {
      "_model_module": "@jupyter-widgets/controls",
      "_model_module_version": "1.5.0",
      "_model_name": "ProgressStyleModel",
      "_view_count": null,
      "_view_module": "@jupyter-widgets/base",
      "_view_module_version": "1.2.0",
      "_view_name": "StyleView",
      "bar_color": null,
      "description_width": ""
     }
    },
    "dfc9132775104f36a9a6897135d4b6ef": {
     "model_module": "@jupyter-widgets/base",
     "model_module_version": "1.2.0",
     "model_name": "LayoutModel",
     "state": {
      "_model_module": "@jupyter-widgets/base",
      "_model_module_version": "1.2.0",
      "_model_name": "LayoutModel",
      "_view_count": null,
      "_view_module": "@jupyter-widgets/base",
      "_view_module_version": "1.2.0",
      "_view_name": "LayoutView",
      "align_content": null,
      "align_items": null,
      "align_self": null,
      "border": null,
      "bottom": null,
      "display": null,
      "flex": null,
      "flex_flow": null,
      "grid_area": null,
      "grid_auto_columns": null,
      "grid_auto_flow": null,
      "grid_auto_rows": null,
      "grid_column": null,
      "grid_gap": null,
      "grid_row": null,
      "grid_template_areas": null,
      "grid_template_columns": null,
      "grid_template_rows": null,
      "height": null,
      "justify_content": null,
      "justify_items": null,
      "left": null,
      "margin": null,
      "max_height": null,
      "max_width": null,
      "min_height": null,
      "min_width": null,
      "object_fit": null,
      "object_position": null,
      "order": null,
      "overflow": null,
      "overflow_x": null,
      "overflow_y": null,
      "padding": null,
      "right": null,
      "top": null,
      "visibility": null,
      "width": null
     }
    },
    "e0628044c1fe448d9980e7ee6008704f": {
     "model_module": "@jupyter-widgets/base",
     "model_module_version": "1.2.0",
     "model_name": "LayoutModel",
     "state": {
      "_model_module": "@jupyter-widgets/base",
      "_model_module_version": "1.2.0",
      "_model_name": "LayoutModel",
      "_view_count": null,
      "_view_module": "@jupyter-widgets/base",
      "_view_module_version": "1.2.0",
      "_view_name": "LayoutView",
      "align_content": null,
      "align_items": null,
      "align_self": null,
      "border": null,
      "bottom": null,
      "display": null,
      "flex": null,
      "flex_flow": null,
      "grid_area": null,
      "grid_auto_columns": null,
      "grid_auto_flow": null,
      "grid_auto_rows": null,
      "grid_column": null,
      "grid_gap": null,
      "grid_row": null,
      "grid_template_areas": null,
      "grid_template_columns": null,
      "grid_template_rows": null,
      "height": null,
      "justify_content": null,
      "justify_items": null,
      "left": null,
      "margin": null,
      "max_height": null,
      "max_width": null,
      "min_height": null,
      "min_width": null,
      "object_fit": null,
      "object_position": null,
      "order": null,
      "overflow": null,
      "overflow_x": null,
      "overflow_y": null,
      "padding": null,
      "right": null,
      "top": null,
      "visibility": null,
      "width": null
     }
    },
    "e738197a9855400aa8daa7b4e68244d5": {
     "model_module": "@jupyter-widgets/controls",
     "model_module_version": "1.5.0",
     "model_name": "DescriptionStyleModel",
     "state": {
      "_model_module": "@jupyter-widgets/controls",
      "_model_module_version": "1.5.0",
      "_model_name": "DescriptionStyleModel",
      "_view_count": null,
      "_view_module": "@jupyter-widgets/base",
      "_view_module_version": "1.2.0",
      "_view_name": "StyleView",
      "description_width": ""
     }
    },
    "e7b8b0c7fc82478087b9f3f185efef29": {
     "model_module": "@jupyter-widgets/controls",
     "model_module_version": "1.5.0",
     "model_name": "DescriptionStyleModel",
     "state": {
      "_model_module": "@jupyter-widgets/controls",
      "_model_module_version": "1.5.0",
      "_model_name": "DescriptionStyleModel",
      "_view_count": null,
      "_view_module": "@jupyter-widgets/base",
      "_view_module_version": "1.2.0",
      "_view_name": "StyleView",
      "description_width": ""
     }
    },
    "e855f4e92f7c40c7920634fee1f2e8b3": {
     "model_module": "@jupyter-widgets/controls",
     "model_module_version": "1.5.0",
     "model_name": "HTMLModel",
     "state": {
      "_dom_classes": [],
      "_model_module": "@jupyter-widgets/controls",
      "_model_module_version": "1.5.0",
      "_model_name": "HTMLModel",
      "_view_count": null,
      "_view_module": "@jupyter-widgets/controls",
      "_view_module_version": "1.5.0",
      "_view_name": "HTMLView",
      "description": "",
      "description_tooltip": null,
      "layout": "IPY_MODEL_40304828ba6e4efca4bd662ab451bbec",
      "placeholder": "​",
      "style": "IPY_MODEL_a218ad1a9acb496d9ac5b5f131170a43",
      "value": " 0/837 [07:29&lt;?, ?it/s, train_loss=0.00248]"
     }
    },
    "e9a7fcfa842546e48683e2226b3b5d37": {
     "model_module": "@jupyter-widgets/controls",
     "model_module_version": "1.5.0",
     "model_name": "HTMLModel",
     "state": {
      "_dom_classes": [],
      "_model_module": "@jupyter-widgets/controls",
      "_model_module_version": "1.5.0",
      "_model_name": "HTMLModel",
      "_view_count": null,
      "_view_module": "@jupyter-widgets/controls",
      "_view_module_version": "1.5.0",
      "_view_name": "HTMLView",
      "description": "",
      "description_tooltip": null,
      "layout": "IPY_MODEL_77cbfe2697b84c04b7406daf3c0a5503",
      "placeholder": "​",
      "style": "IPY_MODEL_0e89784056eb442ea7768c0cea372265",
      "value": "Epoch 6/10:   0%"
     }
    },
    "ea1b8779291a406385fdde779c1930cb": {
     "model_module": "@jupyter-widgets/controls",
     "model_module_version": "1.5.0",
     "model_name": "ProgressStyleModel",
     "state": {
      "_model_module": "@jupyter-widgets/controls",
      "_model_module_version": "1.5.0",
      "_model_name": "ProgressStyleModel",
      "_view_count": null,
      "_view_module": "@jupyter-widgets/base",
      "_view_module_version": "1.2.0",
      "_view_name": "StyleView",
      "bar_color": null,
      "description_width": ""
     }
    },
    "eb53b12f4c114ebd9a51d9089d19e4b3": {
     "model_module": "@jupyter-widgets/base",
     "model_module_version": "1.2.0",
     "model_name": "LayoutModel",
     "state": {
      "_model_module": "@jupyter-widgets/base",
      "_model_module_version": "1.2.0",
      "_model_name": "LayoutModel",
      "_view_count": null,
      "_view_module": "@jupyter-widgets/base",
      "_view_module_version": "1.2.0",
      "_view_name": "LayoutView",
      "align_content": null,
      "align_items": null,
      "align_self": null,
      "border": null,
      "bottom": null,
      "display": null,
      "flex": null,
      "flex_flow": null,
      "grid_area": null,
      "grid_auto_columns": null,
      "grid_auto_flow": null,
      "grid_auto_rows": null,
      "grid_column": null,
      "grid_gap": null,
      "grid_row": null,
      "grid_template_areas": null,
      "grid_template_columns": null,
      "grid_template_rows": null,
      "height": null,
      "justify_content": null,
      "justify_items": null,
      "left": null,
      "margin": null,
      "max_height": null,
      "max_width": null,
      "min_height": null,
      "min_width": null,
      "object_fit": null,
      "object_position": null,
      "order": null,
      "overflow": null,
      "overflow_x": null,
      "overflow_y": null,
      "padding": null,
      "right": null,
      "top": null,
      "visibility": null,
      "width": null
     }
    },
    "eb6fd13896a04a01b7803d6bb1e17ca9": {
     "model_module": "@jupyter-widgets/base",
     "model_module_version": "1.2.0",
     "model_name": "LayoutModel",
     "state": {
      "_model_module": "@jupyter-widgets/base",
      "_model_module_version": "1.2.0",
      "_model_name": "LayoutModel",
      "_view_count": null,
      "_view_module": "@jupyter-widgets/base",
      "_view_module_version": "1.2.0",
      "_view_name": "LayoutView",
      "align_content": null,
      "align_items": null,
      "align_self": null,
      "border": null,
      "bottom": null,
      "display": null,
      "flex": null,
      "flex_flow": null,
      "grid_area": null,
      "grid_auto_columns": null,
      "grid_auto_flow": null,
      "grid_auto_rows": null,
      "grid_column": null,
      "grid_gap": null,
      "grid_row": null,
      "grid_template_areas": null,
      "grid_template_columns": null,
      "grid_template_rows": null,
      "height": null,
      "justify_content": null,
      "justify_items": null,
      "left": null,
      "margin": null,
      "max_height": null,
      "max_width": null,
      "min_height": null,
      "min_width": null,
      "object_fit": null,
      "object_position": null,
      "order": null,
      "overflow": null,
      "overflow_x": null,
      "overflow_y": null,
      "padding": null,
      "right": null,
      "top": null,
      "visibility": null,
      "width": null
     }
    },
    "eedb7e942bef4321a6f7615e2f140c78": {
     "model_module": "@jupyter-widgets/base",
     "model_module_version": "1.2.0",
     "model_name": "LayoutModel",
     "state": {
      "_model_module": "@jupyter-widgets/base",
      "_model_module_version": "1.2.0",
      "_model_name": "LayoutModel",
      "_view_count": null,
      "_view_module": "@jupyter-widgets/base",
      "_view_module_version": "1.2.0",
      "_view_name": "LayoutView",
      "align_content": null,
      "align_items": null,
      "align_self": null,
      "border": null,
      "bottom": null,
      "display": null,
      "flex": null,
      "flex_flow": null,
      "grid_area": null,
      "grid_auto_columns": null,
      "grid_auto_flow": null,
      "grid_auto_rows": null,
      "grid_column": null,
      "grid_gap": null,
      "grid_row": null,
      "grid_template_areas": null,
      "grid_template_columns": null,
      "grid_template_rows": null,
      "height": null,
      "justify_content": null,
      "justify_items": null,
      "left": null,
      "margin": null,
      "max_height": null,
      "max_width": null,
      "min_height": null,
      "min_width": null,
      "object_fit": null,
      "object_position": null,
      "order": null,
      "overflow": null,
      "overflow_x": null,
      "overflow_y": null,
      "padding": null,
      "right": null,
      "top": null,
      "visibility": null,
      "width": null
     }
    },
    "efcb7784566c46eca64f7275cf742302": {
     "model_module": "@jupyter-widgets/base",
     "model_module_version": "1.2.0",
     "model_name": "LayoutModel",
     "state": {
      "_model_module": "@jupyter-widgets/base",
      "_model_module_version": "1.2.0",
      "_model_name": "LayoutModel",
      "_view_count": null,
      "_view_module": "@jupyter-widgets/base",
      "_view_module_version": "1.2.0",
      "_view_name": "LayoutView",
      "align_content": null,
      "align_items": null,
      "align_self": null,
      "border": null,
      "bottom": null,
      "display": null,
      "flex": null,
      "flex_flow": null,
      "grid_area": null,
      "grid_auto_columns": null,
      "grid_auto_flow": null,
      "grid_auto_rows": null,
      "grid_column": null,
      "grid_gap": null,
      "grid_row": null,
      "grid_template_areas": null,
      "grid_template_columns": null,
      "grid_template_rows": null,
      "height": null,
      "justify_content": null,
      "justify_items": null,
      "left": null,
      "margin": null,
      "max_height": null,
      "max_width": null,
      "min_height": null,
      "min_width": null,
      "object_fit": null,
      "object_position": null,
      "order": null,
      "overflow": null,
      "overflow_x": null,
      "overflow_y": null,
      "padding": null,
      "right": null,
      "top": null,
      "visibility": null,
      "width": null
     }
    },
    "f1ce29030f404443b18a93823e916079": {
     "model_module": "@jupyter-widgets/base",
     "model_module_version": "1.2.0",
     "model_name": "LayoutModel",
     "state": {
      "_model_module": "@jupyter-widgets/base",
      "_model_module_version": "1.2.0",
      "_model_name": "LayoutModel",
      "_view_count": null,
      "_view_module": "@jupyter-widgets/base",
      "_view_module_version": "1.2.0",
      "_view_name": "LayoutView",
      "align_content": null,
      "align_items": null,
      "align_self": null,
      "border": null,
      "bottom": null,
      "display": null,
      "flex": null,
      "flex_flow": null,
      "grid_area": null,
      "grid_auto_columns": null,
      "grid_auto_flow": null,
      "grid_auto_rows": null,
      "grid_column": null,
      "grid_gap": null,
      "grid_row": null,
      "grid_template_areas": null,
      "grid_template_columns": null,
      "grid_template_rows": null,
      "height": null,
      "justify_content": null,
      "justify_items": null,
      "left": null,
      "margin": null,
      "max_height": null,
      "max_width": null,
      "min_height": null,
      "min_width": null,
      "object_fit": null,
      "object_position": null,
      "order": null,
      "overflow": null,
      "overflow_x": null,
      "overflow_y": null,
      "padding": null,
      "right": null,
      "top": null,
      "visibility": null,
      "width": null
     }
    },
    "f55a9f42ff964510bc253d633eaaaa53": {
     "model_module": "@jupyter-widgets/controls",
     "model_module_version": "1.5.0",
     "model_name": "DescriptionStyleModel",
     "state": {
      "_model_module": "@jupyter-widgets/controls",
      "_model_module_version": "1.5.0",
      "_model_name": "DescriptionStyleModel",
      "_view_count": null,
      "_view_module": "@jupyter-widgets/base",
      "_view_module_version": "1.2.0",
      "_view_name": "StyleView",
      "description_width": ""
     }
    },
    "f5d83b4bd297420ea4e53b0a8ff28a26": {
     "model_module": "@jupyter-widgets/controls",
     "model_module_version": "1.5.0",
     "model_name": "HTMLModel",
     "state": {
      "_dom_classes": [],
      "_model_module": "@jupyter-widgets/controls",
      "_model_module_version": "1.5.0",
      "_model_name": "HTMLModel",
      "_view_count": null,
      "_view_module": "@jupyter-widgets/controls",
      "_view_module_version": "1.5.0",
      "_view_name": "HTMLView",
      "description": "",
      "description_tooltip": null,
      "layout": "IPY_MODEL_933781442f974024b15ffcb1679d898f",
      "placeholder": "​",
      "style": "IPY_MODEL_e7b8b0c7fc82478087b9f3f185efef29",
      "value": "Epoch 2/10:   0%"
     }
    },
    "f74397ef174b4112873e1fae0e1819c7": {
     "model_module": "@jupyter-widgets/base",
     "model_module_version": "1.2.0",
     "model_name": "LayoutModel",
     "state": {
      "_model_module": "@jupyter-widgets/base",
      "_model_module_version": "1.2.0",
      "_model_name": "LayoutModel",
      "_view_count": null,
      "_view_module": "@jupyter-widgets/base",
      "_view_module_version": "1.2.0",
      "_view_name": "LayoutView",
      "align_content": null,
      "align_items": null,
      "align_self": null,
      "border": null,
      "bottom": null,
      "display": null,
      "flex": null,
      "flex_flow": null,
      "grid_area": null,
      "grid_auto_columns": null,
      "grid_auto_flow": null,
      "grid_auto_rows": null,
      "grid_column": null,
      "grid_gap": null,
      "grid_row": null,
      "grid_template_areas": null,
      "grid_template_columns": null,
      "grid_template_rows": null,
      "height": null,
      "justify_content": null,
      "justify_items": null,
      "left": null,
      "margin": null,
      "max_height": null,
      "max_width": null,
      "min_height": null,
      "min_width": null,
      "object_fit": null,
      "object_position": null,
      "order": null,
      "overflow": null,
      "overflow_x": null,
      "overflow_y": null,
      "padding": null,
      "right": null,
      "top": null,
      "visibility": null,
      "width": null
     }
    },
    "ff61d1c3fa55431dac816f3fc4d42bc2": {
     "model_module": "@jupyter-widgets/controls",
     "model_module_version": "1.5.0",
     "model_name": "HTMLModel",
     "state": {
      "_dom_classes": [],
      "_model_module": "@jupyter-widgets/controls",
      "_model_module_version": "1.5.0",
      "_model_name": "HTMLModel",
      "_view_count": null,
      "_view_module": "@jupyter-widgets/controls",
      "_view_module_version": "1.5.0",
      "_view_name": "HTMLView",
      "description": "",
      "description_tooltip": null,
      "layout": "IPY_MODEL_d0a8f89761b643d4b1cdc68170cbe562",
      "placeholder": "​",
      "style": "IPY_MODEL_6b55bb3fc5474fe7badc55b24f5828f1",
      "value": " 0/837 [07:28&lt;?, ?it/s, train_loss=0.00299]"
     }
    }
   }
  }
 },
 "nbformat": 4,
 "nbformat_minor": 0
}
